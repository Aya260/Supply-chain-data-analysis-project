{
 "cells": [
  {
   "cell_type": "markdown",
   "id": "65c2668c",
   "metadata": {},
   "source": [
    "#  Supply Chain Supply Health Commodiy Data Analysis"
   ]
  },
  {
   "cell_type": "markdown",
   "id": "30365ba6",
   "metadata": {},
   "source": [
    "This dataset provides supply chain health commodiy shipment and pricing data. \n",
    " \n",
    " Specifically, the data set identifies Antiretroviral (ARV) and HIV lab shipments to supported countries.\n",
    " \n",
    " In addition, the data set provides the commodity pricing and associated supply chain expenses necessary to move the commodities to countries for use.\n",
    "\n",
    " products categories\n",
    "\n",
    "    ACT – Artemisinin-based Combination Therapy (Used to treat malaria, often co-managed with HIV programs)\n",
    "\n",
    "    ANTM – Antimalarial Treatment (General category for malaria drugs)\n",
    "\n",
    "    ARV – Antiretroviral Drugs (Medications used to treat HIV)\n",
    "\n",
    "    HRDT – HIV Rapid Diagnostic Test (Used for quick HIV testing)\n",
    "\n",
    "    MRDT – Malaria Rapid Diagnostic Test (Used for quick malaria testing)\n",
    "\n",
    "#These are commonly used in public health supply chains, especially in HIV/AIDS programs, where managing malaria co-infections is also a priority. "
   ]
  },
  {
   "cell_type": "markdown",
   "id": "77c5d05c",
   "metadata": {},
   "source": [
    "🎯 Main Goal: Identify Bottlenecks in the Supply Chain\n",
    "\n",
    "🔍 1️⃣ Exploratory Data Analysis (EDA)\n",
    "\n",
    "    Goal: Understand data structure, quality, and key patterns.\n",
    "\n",
    "           Import Libraries: pandas, numpy, matplotlib, seaborn\n",
    "\n",
    "           Load Data: Read dataset (e.g., CSV)\n",
    "\n",
    "           Quick Overview: .head(), .info(), .describe()\n",
    "\n",
    "           Clean Data: Handle missing values, fix types, remove outliers\n",
    "\n",
    "           Profile Data: Duplicates, unique values, value counts\n",
    "\n",
    "           Check Quality: Consistency, accuracy, integrity\n",
    "\n",
    "           Descriptive Stats: Key metrics like cost, delivery time\n",
    "\n",
    "           Correlation: Heatmaps, pairplots for variable relationships\n",
    "\n",
    "           Visuals: Histograms, boxplots, trends over time\n",
    "\n",
    "🛠️ 2️⃣ Diagnostic Analysis (Bottlenecks)\n",
    "\n",
    "    Goal: Uncover operational inefficiencies.\n",
    "\n",
    "          Delivery Delays: Analyze late shipments by vendor/product/region\n",
    "\n",
    "          Cost Overruns: High-cost shipments vs. weight, distance, time\n",
    "\n",
    "          Vendor Issues: Performance scores (on-time %, cost, complaints)\n",
    "\n",
    "          Product Bottlenecks: Items with recurring problems or delays"
   ]
  },
  {
   "cell_type": "markdown",
   "id": "44e3edc1",
   "metadata": {},
   "source": [
    "# Data Preprocessing & Cleaning\n"
   ]
  },
  {
   "cell_type": "code",
   "execution_count": null,
   "id": "59aff74b",
   "metadata": {},
   "outputs": [],
   "source": [
    "#Import Packages\n",
    "import pandas as pd\n",
    "import numpy as np\n",
    "import matplotlib.pyplot as plt\n",
    "import seaborn as sns"
   ]
  },
  {
   "cell_type": "code",
   "execution_count": 138,
   "id": "b0370e32",
   "metadata": {},
   "outputs": [],
   "source": [
    "# importing supply chain data\n",
    "df= pd.read_excel(r\"D:\\aml\\project\\last choice\\Supply_Chain_Shipment_Pricing.xlsx\")"
   ]
  },
  {
   "cell_type": "code",
   "execution_count": 139,
   "id": "001fc53c",
   "metadata": {},
   "outputs": [
    {
     "data": {
      "text/plain": [
       "(10324, 33)"
      ]
     },
     "execution_count": 139,
     "metadata": {},
     "output_type": "execute_result"
    }
   ],
   "source": [
    "# Strating EDA\n",
    "df.shape"
   ]
  },
  {
   "cell_type": "code",
   "execution_count": 140,
   "id": "785e36de",
   "metadata": {},
   "outputs": [
    {
     "data": {
      "text/plain": [
       "Index(['id', 'project code', 'pq #', 'po / so #', 'asn/dn #', 'country',\n",
       "       'managed by', 'fulfill via', 'vendor inco term', 'shipment mode',\n",
       "       'pq first sent to client date', 'po sent to vendor date',\n",
       "       'scheduled delivery date', 'delivered to client date',\n",
       "       'delivery recorded date', 'product group', 'sub classification',\n",
       "       'vendor', 'item description', 'molecule/test type', 'brand', 'dosage',\n",
       "       'dosage form', 'unit of measure (per pack)', 'line item quantity',\n",
       "       'line item value', 'pack price', 'unit price', 'manufacturing site',\n",
       "       'first line designation', 'weight (kilograms)', 'freight cost (usd)',\n",
       "       'line item insurance (usd)'],\n",
       "      dtype='object')"
      ]
     },
     "execution_count": 140,
     "metadata": {},
     "output_type": "execute_result"
    }
   ],
   "source": [
    "df.columns"
   ]
  },
  {
   "cell_type": "markdown",
   "id": "5493f839",
   "metadata": {},
   "source": [
    "#1\tID\tPrimary key indentifer of the line of data in our analytical tool\t\n",
    "\n",
    "#2\tProject Code\tProject code\tOnly includes PEPFAR project codes\n",
    "\n",
    "#3\tPQ #\tPrice quote (PQ) number\t\"Pre-PQ Process\" indicates deliveries that occurred before the PQ process was put in place in mid-2009.\n",
    "\n",
    "#5\tASN/DN #\tShipment number: Advanced Shipment Note (ASN) for Direct Drop deliveries, or Delivery Note (DN) for from RDC deliveries\t\n",
    "\n",
    "#6\tCountry\tDestination country\t\n",
    "\n",
    "#7\tManaged By\tSCMS managing office: either the Program Management Office (PMO) in the U.S. or the relevant SCMS field office\t\n",
    "\n",
    "#8\tFulfill Via\tMethod through which the shipment was fulfilled: via Direct Drop from vendor or from stock available in the RDCs\t\n",
    "\n",
    "#9\tVendor INCO Term\tThe vendor INCO term (also known as International Commercial Terms) for Direct Drop deliveries\tNot applicable for from RDC deliveries (\"NA - From RDC\")\n",
    "\n",
    "#10\tShipment Mode\tMethod by which commodities are shipped\t\n",
    "\n",
    "#11\tPQ First Sent to Client Date\tDate the PQ is first sent to the client\t\"Pre-PQ Process\" indicates deliveries that occurred before the PQ process was put in place in mid-2009.  \"Date Not Captured\" where date was \n",
    "not captured.\n",
    "\n",
    "#12\tPO Sent to Vendor Date\tDate the PO is first sent to the vendor\tNot applicable for from RDC deliveries (\"NA - From RDC\"). \"Date Not Captured\" where date was not captured.\n",
    "\n",
    "#13\tScheduled Delivery Date\tCurrent anticipated delivery date\tThis date is not equivalent to the client promised delivery date and should not be used to determine on-time perform.\n",
    "\n",
    "#14\tDelivered to Client Date\tDate of delivery to client\tTransactions are included in the dataset only after the goods have been delivered to the client\n",
    "\n",
    "#15\tDelivery Recorded Date\tDate on which delivery to client was recorded in SCMS information systems\tThis date is used for official SCMS reporting. Deliveries are only recorded in SCMS systems once all necessary\n",
    " documentation has been received. Due to documentation delays there can be a lag between the time goods are physically delivered to the client and the date on which all necessary documentation has been received. \n",
    "\n",
    "#16\tProduct Group\tProduct group for item, i.e. ARV, HRDT\tACT, ANTM, ARV, HRDT, MRDT only\n",
    "\n",
    "#17\tSub Classification\tIdentifies relevant product sub classifications, such as whether ARVs are pediatric or adult, whether a malaria product is an artemisinin-based combination therapy (ACT), etc.\t\n",
    "\n",
    "#18\tVendor\tVendor name\tSCMS is the vendor for from RDC deliveries (product can be from multiple manufacturers, based on available stock)\n",
    "\n",
    "#19\tItem Description\tProduct name and formulation from Partnership for Supply Chain Management (PFSCM) Item Master\n",
    "\n",
    "#20\tMolecule/Test Type\tActive drug(s) or test kit type\t\n",
    "\n",
    "#21\tBrand\tGeneric or branded name for the item\t\n",
    "\n",
    "#22\tDosage\tItem dosage and unit\t\n",
    "\n",
    "#23\tDosage Form\tDosage form for the item (tablet, oral solution, injection, etc.). \t\"FDC\" denotes if the item contains a fixed-dose combination (FDC) formulation. \"Blister\" denotes if the item is presented in blister \n",
    "packaging. \"Co-blister\" denotes when the item contains more than one product packaged together in blister packaging.\n",
    "\n",
    "#24\tUnit of Measure (Per Pack)\tPack quantity (pills or test kits) used to compute unit price\t\n",
    "\n",
    "#25\tLine Item Quantity\tTotal quantity (packs) of commodity per line item\t\n",
    "\n",
    "#26\tLine Item Value\tTotal value of commodity per line item\t\n",
    "\n",
    "#27\tPack Price\tCost per pack (i.e. month's supply of ARVs, pack of 60 test kits)\t\n",
    "\n",
    "#28\tUnit Price\tCost per pill (for drugs) or per test (for test kits)\t\n",
    "\n",
    "#29\tManufacturing Site\tIdentifies manufacturing site for the line item for direct drop and from RDC deliveries\t\n",
    "\n",
    "#30\tFirst Line Designation\tDesignates if the line in question shows the aggregated freight costs and weight associated with all items on the ASN/DN \tThere may or may not be other associated lines with each ASN/DN\n",
    "\n",
    "#31\tWeight (Kilograms)\tWeight for all lines on an ASN/DN\tPresent only for FirstLine designated lines\n",
    "\n",
    "#32\tFreight Cost (USD)\tFreight charges associated with all lines on the respective ASN/DN\tPresent only for FirstLine designated lines. For C- and D-vendor INCO term deliveries, freight costs may be included in the unit price for the commodities as indicated by \"Freight Included in Commodity Price\". All other lines are \"Invoiced Separately\"\n",
    "\n",
    "#33\tLine Item Insurance (USD)\tLine item cost of insurance, created by applying an annual flat rate (%) to commodity cost\tPre 6/1/2009 lines are still under analysis for correct rates because they do not have PQs and cannot be computed in the same way that they currently are across the partnership\n"
   ]
  },
  {
   "cell_type": "code",
   "execution_count": 141,
   "id": "94a76839",
   "metadata": {},
   "outputs": [
    {
     "name": "stdout",
     "output_type": "stream",
     "text": [
      "<class 'pandas.core.frame.DataFrame'>\n",
      "RangeIndex: 10324 entries, 0 to 10323\n",
      "Data columns (total 33 columns):\n",
      " #   Column                        Non-Null Count  Dtype         \n",
      "---  ------                        --------------  -----         \n",
      " 0   id                            10324 non-null  int64         \n",
      " 1   project code                  10324 non-null  object        \n",
      " 2   pq #                          10324 non-null  object        \n",
      " 3   po / so #                     10324 non-null  object        \n",
      " 4   asn/dn #                      10324 non-null  object        \n",
      " 5   country                       10324 non-null  object        \n",
      " 6   managed by                    10324 non-null  object        \n",
      " 7   fulfill via                   10324 non-null  object        \n",
      " 8   vendor inco term              10324 non-null  object        \n",
      " 9   shipment mode                 9964 non-null   object        \n",
      " 10  pq first sent to client date  10324 non-null  object        \n",
      " 11  po sent to vendor date        10324 non-null  object        \n",
      " 12  scheduled delivery date       10324 non-null  datetime64[ns]\n",
      " 13  delivered to client date      10324 non-null  datetime64[ns]\n",
      " 14  delivery recorded date        10324 non-null  datetime64[ns]\n",
      " 15  product group                 10324 non-null  object        \n",
      " 16  sub classification            10324 non-null  object        \n",
      " 17  vendor                        10324 non-null  object        \n",
      " 18  item description              10324 non-null  object        \n",
      " 19  molecule/test type            10324 non-null  object        \n",
      " 20  brand                         10324 non-null  object        \n",
      " 21  dosage                        8588 non-null   object        \n",
      " 22  dosage form                   10324 non-null  object        \n",
      " 23  unit of measure (per pack)    10324 non-null  int64         \n",
      " 24  line item quantity            10324 non-null  int64         \n",
      " 25  line item value               10324 non-null  float64       \n",
      " 26  pack price                    10324 non-null  float64       \n",
      " 27  unit price                    10324 non-null  float64       \n",
      " 28  manufacturing site            10324 non-null  object        \n",
      " 29  first line designation        10324 non-null  bool          \n",
      " 30  weight (kilograms)            10324 non-null  object        \n",
      " 31  freight cost (usd)            10324 non-null  object        \n",
      " 32  line item insurance (usd)     10037 non-null  float64       \n",
      "dtypes: bool(1), datetime64[ns](3), float64(4), int64(3), object(22)\n",
      "memory usage: 2.5+ MB\n"
     ]
    }
   ],
   "source": [
    "df.info()"
   ]
  },
  {
   "cell_type": "markdown",
   "id": "a0ec9655",
   "metadata": {},
   "source": [
    "🧹 Data Cleaning Summary Plan\n",
    "\n",
    "Missing Values:\n",
    "\n",
    "     Shipment Mode: ~360 missing → consider imputation or flagging\n",
    "\n",
    "     Dosage: Nulls expected for HIV kits → keep as-is; filter when needed  >>>>> df_filtered = df[df['dosage'].notnull()]\n",
    "\n",
    "     Line Item Insurance (USD): Review based on analysis needs\n",
    "\n",
    "Data Type Fixes:\n",
    "\n",
    "     Dates (object → datetime): PQ First Sent to Client Date, PO Sent to Vendor Date\n",
    "\n",
    "     Numerics (object → numeric): Weight (Kilograms), Freight Cost (USD)\n"
   ]
  },
  {
   "cell_type": "code",
   "execution_count": 142,
   "id": "0c9d7070",
   "metadata": {},
   "outputs": [
    {
     "data": {
      "text/html": [
       "<div>\n",
       "<style scoped>\n",
       "    .dataframe tbody tr th:only-of-type {\n",
       "        vertical-align: middle;\n",
       "    }\n",
       "\n",
       "    .dataframe tbody tr th {\n",
       "        vertical-align: top;\n",
       "    }\n",
       "\n",
       "    .dataframe thead th {\n",
       "        text-align: right;\n",
       "    }\n",
       "</style>\n",
       "<table border=\"1\" class=\"dataframe\">\n",
       "  <thead>\n",
       "    <tr style=\"text-align: right;\">\n",
       "      <th>shipment mode</th>\n",
       "      <th>Air</th>\n",
       "      <th>Air Charter</th>\n",
       "      <th>Ocean</th>\n",
       "      <th>Truck</th>\n",
       "      <th>NaN</th>\n",
       "    </tr>\n",
       "    <tr>\n",
       "      <th>vendor</th>\n",
       "      <th></th>\n",
       "      <th></th>\n",
       "      <th></th>\n",
       "      <th></th>\n",
       "      <th></th>\n",
       "    </tr>\n",
       "  </thead>\n",
       "  <tbody>\n",
       "    <tr>\n",
       "      <th>ABBOTT LABORATORIES (PUERTO RICO)</th>\n",
       "      <td>1</td>\n",
       "      <td>0</td>\n",
       "      <td>0</td>\n",
       "      <td>0</td>\n",
       "      <td>0</td>\n",
       "    </tr>\n",
       "    <tr>\n",
       "      <th>ABBOTT LOGISTICS B.V.</th>\n",
       "      <td>1</td>\n",
       "      <td>0</td>\n",
       "      <td>0</td>\n",
       "      <td>0</td>\n",
       "      <td>0</td>\n",
       "    </tr>\n",
       "    <tr>\n",
       "      <th>ABBVIE LOGISTICS (FORMERLY ABBOTT LOGISTICS BV)</th>\n",
       "      <td>342</td>\n",
       "      <td>0</td>\n",
       "      <td>5</td>\n",
       "      <td>0</td>\n",
       "      <td>0</td>\n",
       "    </tr>\n",
       "    <tr>\n",
       "      <th>ABBVIE, SRL (FORMALLY ABBOTT LABORATORIES INTERNATIONAL CO.)</th>\n",
       "      <td>1</td>\n",
       "      <td>0</td>\n",
       "      <td>0</td>\n",
       "      <td>3</td>\n",
       "      <td>0</td>\n",
       "    </tr>\n",
       "    <tr>\n",
       "      <th>ACCESS BIO, INC.</th>\n",
       "      <td>1</td>\n",
       "      <td>0</td>\n",
       "      <td>0</td>\n",
       "      <td>0</td>\n",
       "      <td>0</td>\n",
       "    </tr>\n",
       "    <tr>\n",
       "      <th>ACCOUN NIGERIA LIMITED</th>\n",
       "      <td>0</td>\n",
       "      <td>0</td>\n",
       "      <td>0</td>\n",
       "      <td>0</td>\n",
       "      <td>3</td>\n",
       "    </tr>\n",
       "    <tr>\n",
       "      <th>ACOUNS NIGERIA LTD</th>\n",
       "      <td>1</td>\n",
       "      <td>0</td>\n",
       "      <td>0</td>\n",
       "      <td>0</td>\n",
       "      <td>0</td>\n",
       "    </tr>\n",
       "    <tr>\n",
       "      <th>ACTION MEDEOR E.V.</th>\n",
       "      <td>1</td>\n",
       "      <td>0</td>\n",
       "      <td>0</td>\n",
       "      <td>0</td>\n",
       "      <td>0</td>\n",
       "    </tr>\n",
       "    <tr>\n",
       "      <th>AHN (PTY) LTD (AKA UCB (S.A.)</th>\n",
       "      <td>0</td>\n",
       "      <td>0</td>\n",
       "      <td>0</td>\n",
       "      <td>1</td>\n",
       "      <td>0</td>\n",
       "    </tr>\n",
       "    <tr>\n",
       "      <th>AMSTELFARMA B.V.</th>\n",
       "      <td>7</td>\n",
       "      <td>0</td>\n",
       "      <td>0</td>\n",
       "      <td>0</td>\n",
       "      <td>0</td>\n",
       "    </tr>\n",
       "    <tr>\n",
       "      <th>ASPEN PHARMACARE</th>\n",
       "      <td>41</td>\n",
       "      <td>0</td>\n",
       "      <td>0</td>\n",
       "      <td>0</td>\n",
       "      <td>0</td>\n",
       "    </tr>\n",
       "    <tr>\n",
       "      <th>AUROBINDO PHARAM (SOUTH AFRICA)</th>\n",
       "      <td>0</td>\n",
       "      <td>0</td>\n",
       "      <td>0</td>\n",
       "      <td>1</td>\n",
       "      <td>0</td>\n",
       "    </tr>\n",
       "    <tr>\n",
       "      <th>Abbott GmbH &amp; Co. KG</th>\n",
       "      <td>21</td>\n",
       "      <td>0</td>\n",
       "      <td>0</td>\n",
       "      <td>0</td>\n",
       "      <td>0</td>\n",
       "    </tr>\n",
       "    <tr>\n",
       "      <th>Aurobindo Pharma Limited</th>\n",
       "      <td>482</td>\n",
       "      <td>4</td>\n",
       "      <td>182</td>\n",
       "      <td>0</td>\n",
       "      <td>0</td>\n",
       "    </tr>\n",
       "    <tr>\n",
       "      <th>B&amp;C GROUP S.A.</th>\n",
       "      <td>2</td>\n",
       "      <td>0</td>\n",
       "      <td>0</td>\n",
       "      <td>0</td>\n",
       "      <td>0</td>\n",
       "    </tr>\n",
       "    <tr>\n",
       "      <th>BIO-RAD LABORATORIES (FRANCE)</th>\n",
       "      <td>28</td>\n",
       "      <td>0</td>\n",
       "      <td>0</td>\n",
       "      <td>0</td>\n",
       "      <td>0</td>\n",
       "    </tr>\n",
       "    <tr>\n",
       "      <th>BIO-RAD LABORATORIES PTY LTD. (SOUTH AFRICA)</th>\n",
       "      <td>1</td>\n",
       "      <td>0</td>\n",
       "      <td>0</td>\n",
       "      <td>0</td>\n",
       "      <td>0</td>\n",
       "    </tr>\n",
       "    <tr>\n",
       "      <th>BIOLYTICAL LABORATORIES INC.</th>\n",
       "      <td>5</td>\n",
       "      <td>0</td>\n",
       "      <td>0</td>\n",
       "      <td>0</td>\n",
       "      <td>0</td>\n",
       "    </tr>\n",
       "    <tr>\n",
       "      <th>BRISTOL-MYERS SQUIBB</th>\n",
       "      <td>67</td>\n",
       "      <td>0</td>\n",
       "      <td>0</td>\n",
       "      <td>0</td>\n",
       "      <td>0</td>\n",
       "    </tr>\n",
       "    <tr>\n",
       "      <th>BUNDI INTERNATIONAL DIAGNOSTICS LTD</th>\n",
       "      <td>1</td>\n",
       "      <td>0</td>\n",
       "      <td>0</td>\n",
       "      <td>0</td>\n",
       "      <td>1</td>\n",
       "    </tr>\n",
       "    <tr>\n",
       "      <th>CENTRAL PHARMACEUTICAL COMPANY NO. 1</th>\n",
       "      <td>0</td>\n",
       "      <td>0</td>\n",
       "      <td>0</td>\n",
       "      <td>1</td>\n",
       "      <td>0</td>\n",
       "    </tr>\n",
       "    <tr>\n",
       "      <th>CHEMBIO DIAGNOSTIC SYSTEMS, INC.</th>\n",
       "      <td>109</td>\n",
       "      <td>0</td>\n",
       "      <td>0</td>\n",
       "      <td>0</td>\n",
       "      <td>0</td>\n",
       "    </tr>\n",
       "    <tr>\n",
       "      <th>CIPLA LIMITED</th>\n",
       "      <td>119</td>\n",
       "      <td>2</td>\n",
       "      <td>54</td>\n",
       "      <td>0</td>\n",
       "      <td>0</td>\n",
       "    </tr>\n",
       "    <tr>\n",
       "      <th>EMCURE PHARMACEUTICALS LTD</th>\n",
       "      <td>36</td>\n",
       "      <td>0</td>\n",
       "      <td>5</td>\n",
       "      <td>0</td>\n",
       "      <td>0</td>\n",
       "    </tr>\n",
       "    <tr>\n",
       "      <th>ETHNOR DEL ISTMO S.A.</th>\n",
       "      <td>2</td>\n",
       "      <td>0</td>\n",
       "      <td>0</td>\n",
       "      <td>0</td>\n",
       "      <td>0</td>\n",
       "    </tr>\n",
       "    <tr>\n",
       "      <th>EY Laboratories</th>\n",
       "      <td>2</td>\n",
       "      <td>0</td>\n",
       "      <td>0</td>\n",
       "      <td>0</td>\n",
       "      <td>0</td>\n",
       "    </tr>\n",
       "    <tr>\n",
       "      <th>GILEAD SCIENCES IRELAND, INC.</th>\n",
       "      <td>4</td>\n",
       "      <td>0</td>\n",
       "      <td>0</td>\n",
       "      <td>0</td>\n",
       "      <td>0</td>\n",
       "    </tr>\n",
       "    <tr>\n",
       "      <th>GLAXOSMITHKLINE EXPORT LIMITED</th>\n",
       "      <td>11</td>\n",
       "      <td>0</td>\n",
       "      <td>9</td>\n",
       "      <td>0</td>\n",
       "      <td>0</td>\n",
       "    </tr>\n",
       "    <tr>\n",
       "      <th>HETERO LABS LIMITED</th>\n",
       "      <td>236</td>\n",
       "      <td>9</td>\n",
       "      <td>32</td>\n",
       "      <td>0</td>\n",
       "      <td>0</td>\n",
       "    </tr>\n",
       "    <tr>\n",
       "      <th>HUMAN GMBH</th>\n",
       "      <td>3</td>\n",
       "      <td>0</td>\n",
       "      <td>0</td>\n",
       "      <td>0</td>\n",
       "      <td>0</td>\n",
       "    </tr>\n",
       "    <tr>\n",
       "      <th>Hoffmann-La Roche ltd Basel</th>\n",
       "      <td>23</td>\n",
       "      <td>0</td>\n",
       "      <td>0</td>\n",
       "      <td>0</td>\n",
       "      <td>0</td>\n",
       "    </tr>\n",
       "    <tr>\n",
       "      <th>IDA FOUNDATION</th>\n",
       "      <td>17</td>\n",
       "      <td>0</td>\n",
       "      <td>0</td>\n",
       "      <td>0</td>\n",
       "      <td>0</td>\n",
       "    </tr>\n",
       "    <tr>\n",
       "      <th>IDIS LIMITED</th>\n",
       "      <td>6</td>\n",
       "      <td>0</td>\n",
       "      <td>0</td>\n",
       "      <td>0</td>\n",
       "      <td>0</td>\n",
       "    </tr>\n",
       "    <tr>\n",
       "      <th>IMRES B.V.</th>\n",
       "      <td>4</td>\n",
       "      <td>0</td>\n",
       "      <td>0</td>\n",
       "      <td>0</td>\n",
       "      <td>0</td>\n",
       "    </tr>\n",
       "    <tr>\n",
       "      <th>INTERNATIONAL HEALTHCARE DISTRIBUTORS</th>\n",
       "      <td>10</td>\n",
       "      <td>0</td>\n",
       "      <td>0</td>\n",
       "      <td>0</td>\n",
       "      <td>0</td>\n",
       "    </tr>\n",
       "    <tr>\n",
       "      <th>INVERNESS MEDICAL INNOVATIONS HONG KONG LTD</th>\n",
       "      <td>2</td>\n",
       "      <td>0</td>\n",
       "      <td>0</td>\n",
       "      <td>0</td>\n",
       "      <td>0</td>\n",
       "    </tr>\n",
       "    <tr>\n",
       "      <th>INVERNESS MEDICAL INNOVATIONS SOUTH AFRICA (PTY) LTD</th>\n",
       "      <td>2</td>\n",
       "      <td>0</td>\n",
       "      <td>0</td>\n",
       "      <td>0</td>\n",
       "      <td>0</td>\n",
       "    </tr>\n",
       "    <tr>\n",
       "      <th>JANSSEN SCIENCES IRELAND UC (FORMERLY JANSSEN R&amp;D IRELAND)</th>\n",
       "      <td>7</td>\n",
       "      <td>0</td>\n",
       "      <td>0</td>\n",
       "      <td>0</td>\n",
       "      <td>0</td>\n",
       "    </tr>\n",
       "    <tr>\n",
       "      <th>JSI R&amp;T INSTITUTE, INC.</th>\n",
       "      <td>0</td>\n",
       "      <td>0</td>\n",
       "      <td>0</td>\n",
       "      <td>4</td>\n",
       "      <td>34</td>\n",
       "    </tr>\n",
       "    <tr>\n",
       "      <th>KAS MEDICS LIMITED</th>\n",
       "      <td>0</td>\n",
       "      <td>0</td>\n",
       "      <td>0</td>\n",
       "      <td>1</td>\n",
       "      <td>0</td>\n",
       "    </tr>\n",
       "    <tr>\n",
       "      <th>LAWRENCE LABORATORIES (SUBSIDIARY OF BRISTOL MYERS SQUIBB)</th>\n",
       "      <td>18</td>\n",
       "      <td>0</td>\n",
       "      <td>0</td>\n",
       "      <td>0</td>\n",
       "      <td>0</td>\n",
       "    </tr>\n",
       "    <tr>\n",
       "      <th>MEDMIRA EAST AFRICA LTD.</th>\n",
       "      <td>1</td>\n",
       "      <td>0</td>\n",
       "      <td>0</td>\n",
       "      <td>0</td>\n",
       "      <td>0</td>\n",
       "    </tr>\n",
       "    <tr>\n",
       "      <th>MERCK SHARP &amp; DOHME IDEA GMBH (FORMALLY MERCK SHARP &amp; DOHME B.V.)</th>\n",
       "      <td>68</td>\n",
       "      <td>0</td>\n",
       "      <td>0</td>\n",
       "      <td>0</td>\n",
       "      <td>0</td>\n",
       "    </tr>\n",
       "    <tr>\n",
       "      <th>MICRO LABS LIMITED</th>\n",
       "      <td>29</td>\n",
       "      <td>1</td>\n",
       "      <td>5</td>\n",
       "      <td>0</td>\n",
       "      <td>0</td>\n",
       "    </tr>\n",
       "    <tr>\n",
       "      <th>MISSIONPHARMA A/S</th>\n",
       "      <td>3</td>\n",
       "      <td>0</td>\n",
       "      <td>0</td>\n",
       "      <td>0</td>\n",
       "      <td>0</td>\n",
       "    </tr>\n",
       "    <tr>\n",
       "      <th>MSD LATIN AMERICA SERVICES, S. DE R.L. DE C.V.</th>\n",
       "      <td>2</td>\n",
       "      <td>0</td>\n",
       "      <td>0</td>\n",
       "      <td>0</td>\n",
       "      <td>0</td>\n",
       "    </tr>\n",
       "    <tr>\n",
       "      <th>MYLAN LABORATORIES LTD (FORMERLY MATRIX LABORATORIES)</th>\n",
       "      <td>274</td>\n",
       "      <td>0</td>\n",
       "      <td>43</td>\n",
       "      <td>0</td>\n",
       "      <td>0</td>\n",
       "    </tr>\n",
       "    <tr>\n",
       "      <th>NOVARTIS PHARMA SERVICES AG</th>\n",
       "      <td>5</td>\n",
       "      <td>0</td>\n",
       "      <td>0</td>\n",
       "      <td>0</td>\n",
       "      <td>0</td>\n",
       "    </tr>\n",
       "    <tr>\n",
       "      <th>OMEGA DIAGNOSTICS LTD</th>\n",
       "      <td>1</td>\n",
       "      <td>0</td>\n",
       "      <td>0</td>\n",
       "      <td>0</td>\n",
       "      <td>0</td>\n",
       "    </tr>\n",
       "    <tr>\n",
       "      <th>Orasure Technologies Inc.</th>\n",
       "      <td>56</td>\n",
       "      <td>0</td>\n",
       "      <td>0</td>\n",
       "      <td>0</td>\n",
       "      <td>0</td>\n",
       "    </tr>\n",
       "    <tr>\n",
       "      <th>Orgenics, Ltd</th>\n",
       "      <td>753</td>\n",
       "      <td>0</td>\n",
       "      <td>1</td>\n",
       "      <td>0</td>\n",
       "      <td>0</td>\n",
       "    </tr>\n",
       "    <tr>\n",
       "      <th>PHARMACY DIRECT</th>\n",
       "      <td>0</td>\n",
       "      <td>0</td>\n",
       "      <td>0</td>\n",
       "      <td>326</td>\n",
       "      <td>0</td>\n",
       "    </tr>\n",
       "    <tr>\n",
       "      <th>PLURIPHARM S.A.</th>\n",
       "      <td>1</td>\n",
       "      <td>0</td>\n",
       "      <td>0</td>\n",
       "      <td>0</td>\n",
       "      <td>0</td>\n",
       "    </tr>\n",
       "    <tr>\n",
       "      <th>PUETRO RICO PHARMACEUTICAL, INC.</th>\n",
       "      <td>1</td>\n",
       "      <td>0</td>\n",
       "      <td>0</td>\n",
       "      <td>0</td>\n",
       "      <td>0</td>\n",
       "    </tr>\n",
       "    <tr>\n",
       "      <th>Premier Medical Corporation Ltd.</th>\n",
       "      <td>12</td>\n",
       "      <td>0</td>\n",
       "      <td>0</td>\n",
       "      <td>0</td>\n",
       "      <td>0</td>\n",
       "    </tr>\n",
       "    <tr>\n",
       "      <th>RAININ INSTRUMENT, LLC.</th>\n",
       "      <td>0</td>\n",
       "      <td>0</td>\n",
       "      <td>0</td>\n",
       "      <td>1</td>\n",
       "      <td>0</td>\n",
       "    </tr>\n",
       "    <tr>\n",
       "      <th>RANBAXY Fine Chemicals LTD.</th>\n",
       "      <td>2</td>\n",
       "      <td>0</td>\n",
       "      <td>0</td>\n",
       "      <td>0</td>\n",
       "      <td>0</td>\n",
       "    </tr>\n",
       "    <tr>\n",
       "      <th>REINBOLD EXPORT IMPORT</th>\n",
       "      <td>6</td>\n",
       "      <td>0</td>\n",
       "      <td>0</td>\n",
       "      <td>6</td>\n",
       "      <td>0</td>\n",
       "    </tr>\n",
       "    <tr>\n",
       "      <th>S. BUYS WHOLESALER</th>\n",
       "      <td>134</td>\n",
       "      <td>0</td>\n",
       "      <td>0</td>\n",
       "      <td>573</td>\n",
       "      <td>8</td>\n",
       "    </tr>\n",
       "    <tr>\n",
       "      <th>SCMS from RDC</th>\n",
       "      <td>2545</td>\n",
       "      <td>632</td>\n",
       "      <td>5</td>\n",
       "      <td>1910</td>\n",
       "      <td>312</td>\n",
       "    </tr>\n",
       "    <tr>\n",
       "      <th>SETEMA LIMITED PLC</th>\n",
       "      <td>1</td>\n",
       "      <td>0</td>\n",
       "      <td>0</td>\n",
       "      <td>0</td>\n",
       "      <td>0</td>\n",
       "    </tr>\n",
       "    <tr>\n",
       "      <th>SHANGHAI KEHUA BIOENGINEERING CO.,LTD.  (KHB)</th>\n",
       "      <td>70</td>\n",
       "      <td>0</td>\n",
       "      <td>0</td>\n",
       "      <td>0</td>\n",
       "      <td>0</td>\n",
       "    </tr>\n",
       "    <tr>\n",
       "      <th>STRIDES ARCOLAB LIMITED</th>\n",
       "      <td>64</td>\n",
       "      <td>2</td>\n",
       "      <td>27</td>\n",
       "      <td>0</td>\n",
       "      <td>0</td>\n",
       "    </tr>\n",
       "    <tr>\n",
       "      <th>SUB-SAHARAN BIOMEDICAL P.L.C.</th>\n",
       "      <td>1</td>\n",
       "      <td>0</td>\n",
       "      <td>0</td>\n",
       "      <td>0</td>\n",
       "      <td>0</td>\n",
       "    </tr>\n",
       "    <tr>\n",
       "      <th>SUN PHARMACEUTICAL INDUSTRIES LTD (RANBAXY LABORATORIES LIMITED)</th>\n",
       "      <td>9</td>\n",
       "      <td>0</td>\n",
       "      <td>0</td>\n",
       "      <td>0</td>\n",
       "      <td>0</td>\n",
       "    </tr>\n",
       "    <tr>\n",
       "      <th>SWORDS LABORATORIES</th>\n",
       "      <td>3</td>\n",
       "      <td>0</td>\n",
       "      <td>0</td>\n",
       "      <td>0</td>\n",
       "      <td>0</td>\n",
       "    </tr>\n",
       "    <tr>\n",
       "      <th>SYSMEX AMERICA INC</th>\n",
       "      <td>1</td>\n",
       "      <td>0</td>\n",
       "      <td>0</td>\n",
       "      <td>0</td>\n",
       "      <td>0</td>\n",
       "    </tr>\n",
       "    <tr>\n",
       "      <th>Standard Diagnostics, Inc.</th>\n",
       "      <td>98</td>\n",
       "      <td>0</td>\n",
       "      <td>0</td>\n",
       "      <td>0</td>\n",
       "      <td>0</td>\n",
       "    </tr>\n",
       "    <tr>\n",
       "      <th>THE MEDICAL EXPORT GROUP BV</th>\n",
       "      <td>1</td>\n",
       "      <td>0</td>\n",
       "      <td>0</td>\n",
       "      <td>0</td>\n",
       "      <td>0</td>\n",
       "    </tr>\n",
       "    <tr>\n",
       "      <th>TURE PHARMACEUTICALS &amp; MEDICAL SUPPLIES P.L.C.</th>\n",
       "      <td>1</td>\n",
       "      <td>0</td>\n",
       "      <td>0</td>\n",
       "      <td>1</td>\n",
       "      <td>1</td>\n",
       "    </tr>\n",
       "    <tr>\n",
       "      <th>Trinity Biotech, Plc</th>\n",
       "      <td>353</td>\n",
       "      <td>0</td>\n",
       "      <td>3</td>\n",
       "      <td>0</td>\n",
       "      <td>0</td>\n",
       "    </tr>\n",
       "    <tr>\n",
       "      <th>WAGENIA</th>\n",
       "      <td>0</td>\n",
       "      <td>0</td>\n",
       "      <td>0</td>\n",
       "      <td>2</td>\n",
       "      <td>0</td>\n",
       "    </tr>\n",
       "    <tr>\n",
       "      <th>ZEPHYR BIOMEDICALS</th>\n",
       "      <td>4</td>\n",
       "      <td>0</td>\n",
       "      <td>0</td>\n",
       "      <td>0</td>\n",
       "      <td>1</td>\n",
       "    </tr>\n",
       "  </tbody>\n",
       "</table>\n",
       "</div>"
      ],
      "text/plain": [
       "shipment mode                                                       Air  \\\n",
       "vendor                                                                    \n",
       "ABBOTT LABORATORIES (PUERTO RICO)                                     1   \n",
       "ABBOTT LOGISTICS B.V.                                                 1   \n",
       "ABBVIE LOGISTICS (FORMERLY ABBOTT LOGISTICS BV)                     342   \n",
       "ABBVIE, SRL (FORMALLY ABBOTT LABORATORIES INTERNATIONAL CO.)          1   \n",
       "ACCESS BIO, INC.                                                      1   \n",
       "ACCOUN NIGERIA LIMITED                                                0   \n",
       "ACOUNS NIGERIA LTD                                                    1   \n",
       "ACTION MEDEOR E.V.                                                    1   \n",
       "AHN (PTY) LTD (AKA UCB (S.A.)                                         0   \n",
       "AMSTELFARMA B.V.                                                      7   \n",
       "ASPEN PHARMACARE                                                     41   \n",
       "AUROBINDO PHARAM (SOUTH AFRICA)                                       0   \n",
       "Abbott GmbH & Co. KG                                                 21   \n",
       "Aurobindo Pharma Limited                                            482   \n",
       "B&C GROUP S.A.                                                        2   \n",
       "BIO-RAD LABORATORIES (FRANCE)                                        28   \n",
       "BIO-RAD LABORATORIES PTY LTD. (SOUTH AFRICA)                          1   \n",
       "BIOLYTICAL LABORATORIES INC.                                          5   \n",
       "BRISTOL-MYERS SQUIBB                                                 67   \n",
       "BUNDI INTERNATIONAL DIAGNOSTICS LTD                                   1   \n",
       "CENTRAL PHARMACEUTICAL COMPANY NO. 1                                  0   \n",
       "CHEMBIO DIAGNOSTIC SYSTEMS, INC.                                    109   \n",
       "CIPLA LIMITED                                                       119   \n",
       "EMCURE PHARMACEUTICALS LTD                                           36   \n",
       "ETHNOR DEL ISTMO S.A.                                                 2   \n",
       "EY Laboratories                                                       2   \n",
       "GILEAD SCIENCES IRELAND, INC.                                         4   \n",
       "GLAXOSMITHKLINE EXPORT LIMITED                                       11   \n",
       "HETERO LABS LIMITED                                                 236   \n",
       "HUMAN GMBH                                                            3   \n",
       "Hoffmann-La Roche ltd Basel                                          23   \n",
       "IDA FOUNDATION                                                       17   \n",
       "IDIS LIMITED                                                          6   \n",
       "IMRES B.V.                                                            4   \n",
       "INTERNATIONAL HEALTHCARE DISTRIBUTORS                                10   \n",
       "INVERNESS MEDICAL INNOVATIONS HONG KONG LTD                           2   \n",
       "INVERNESS MEDICAL INNOVATIONS SOUTH AFRICA (PTY) LTD                  2   \n",
       "JANSSEN SCIENCES IRELAND UC (FORMERLY JANSSEN R&D IRELAND)            7   \n",
       "JSI R&T INSTITUTE, INC.                                               0   \n",
       "KAS MEDICS LIMITED                                                    0   \n",
       "LAWRENCE LABORATORIES (SUBSIDIARY OF BRISTOL MYERS SQUIBB)           18   \n",
       "MEDMIRA EAST AFRICA LTD.                                              1   \n",
       "MERCK SHARP & DOHME IDEA GMBH (FORMALLY MERCK SHARP & DOHME B.V.)    68   \n",
       "MICRO LABS LIMITED                                                   29   \n",
       "MISSIONPHARMA A/S                                                     3   \n",
       "MSD LATIN AMERICA SERVICES, S. DE R.L. DE C.V.                        2   \n",
       "MYLAN LABORATORIES LTD (FORMERLY MATRIX LABORATORIES)               274   \n",
       "NOVARTIS PHARMA SERVICES AG                                           5   \n",
       "OMEGA DIAGNOSTICS LTD                                                 1   \n",
       "Orasure Technologies Inc.                                            56   \n",
       "Orgenics, Ltd                                                       753   \n",
       "PHARMACY DIRECT                                                       0   \n",
       "PLURIPHARM S.A.                                                       1   \n",
       "PUETRO RICO PHARMACEUTICAL, INC.                                      1   \n",
       "Premier Medical Corporation Ltd.                                     12   \n",
       "RAININ INSTRUMENT, LLC.                                               0   \n",
       "RANBAXY Fine Chemicals LTD.                                           2   \n",
       "REINBOLD EXPORT IMPORT                                                6   \n",
       "S. BUYS WHOLESALER                                                  134   \n",
       "SCMS from RDC                                                      2545   \n",
       "SETEMA LIMITED PLC                                                    1   \n",
       "SHANGHAI KEHUA BIOENGINEERING CO.,LTD.  (KHB)                        70   \n",
       "STRIDES ARCOLAB LIMITED                                              64   \n",
       "SUB-SAHARAN BIOMEDICAL P.L.C.                                         1   \n",
       "SUN PHARMACEUTICAL INDUSTRIES LTD (RANBAXY LABORATORIES LIMITED)      9   \n",
       "SWORDS LABORATORIES                                                   3   \n",
       "SYSMEX AMERICA INC                                                    1   \n",
       "Standard Diagnostics, Inc.                                           98   \n",
       "THE MEDICAL EXPORT GROUP BV                                           1   \n",
       "TURE PHARMACEUTICALS & MEDICAL SUPPLIES P.L.C.                        1   \n",
       "Trinity Biotech, Plc                                                353   \n",
       "WAGENIA                                                               0   \n",
       "ZEPHYR BIOMEDICALS                                                    4   \n",
       "\n",
       "shipment mode                                                      Air Charter  \\\n",
       "vendor                                                                           \n",
       "ABBOTT LABORATORIES (PUERTO RICO)                                            0   \n",
       "ABBOTT LOGISTICS B.V.                                                        0   \n",
       "ABBVIE LOGISTICS (FORMERLY ABBOTT LOGISTICS BV)                              0   \n",
       "ABBVIE, SRL (FORMALLY ABBOTT LABORATORIES INTERNATIONAL CO.)                 0   \n",
       "ACCESS BIO, INC.                                                             0   \n",
       "ACCOUN NIGERIA LIMITED                                                       0   \n",
       "ACOUNS NIGERIA LTD                                                           0   \n",
       "ACTION MEDEOR E.V.                                                           0   \n",
       "AHN (PTY) LTD (AKA UCB (S.A.)                                                0   \n",
       "AMSTELFARMA B.V.                                                             0   \n",
       "ASPEN PHARMACARE                                                             0   \n",
       "AUROBINDO PHARAM (SOUTH AFRICA)                                              0   \n",
       "Abbott GmbH & Co. KG                                                         0   \n",
       "Aurobindo Pharma Limited                                                     4   \n",
       "B&C GROUP S.A.                                                               0   \n",
       "BIO-RAD LABORATORIES (FRANCE)                                                0   \n",
       "BIO-RAD LABORATORIES PTY LTD. (SOUTH AFRICA)                                 0   \n",
       "BIOLYTICAL LABORATORIES INC.                                                 0   \n",
       "BRISTOL-MYERS SQUIBB                                                         0   \n",
       "BUNDI INTERNATIONAL DIAGNOSTICS LTD                                          0   \n",
       "CENTRAL PHARMACEUTICAL COMPANY NO. 1                                         0   \n",
       "CHEMBIO DIAGNOSTIC SYSTEMS, INC.                                             0   \n",
       "CIPLA LIMITED                                                                2   \n",
       "EMCURE PHARMACEUTICALS LTD                                                   0   \n",
       "ETHNOR DEL ISTMO S.A.                                                        0   \n",
       "EY Laboratories                                                              0   \n",
       "GILEAD SCIENCES IRELAND, INC.                                                0   \n",
       "GLAXOSMITHKLINE EXPORT LIMITED                                               0   \n",
       "HETERO LABS LIMITED                                                          9   \n",
       "HUMAN GMBH                                                                   0   \n",
       "Hoffmann-La Roche ltd Basel                                                  0   \n",
       "IDA FOUNDATION                                                               0   \n",
       "IDIS LIMITED                                                                 0   \n",
       "IMRES B.V.                                                                   0   \n",
       "INTERNATIONAL HEALTHCARE DISTRIBUTORS                                        0   \n",
       "INVERNESS MEDICAL INNOVATIONS HONG KONG LTD                                  0   \n",
       "INVERNESS MEDICAL INNOVATIONS SOUTH AFRICA (PTY) LTD                         0   \n",
       "JANSSEN SCIENCES IRELAND UC (FORMERLY JANSSEN R&D IRELAND)                   0   \n",
       "JSI R&T INSTITUTE, INC.                                                      0   \n",
       "KAS MEDICS LIMITED                                                           0   \n",
       "LAWRENCE LABORATORIES (SUBSIDIARY OF BRISTOL MYERS SQUIBB)                   0   \n",
       "MEDMIRA EAST AFRICA LTD.                                                     0   \n",
       "MERCK SHARP & DOHME IDEA GMBH (FORMALLY MERCK SHARP & DOHME B.V.)            0   \n",
       "MICRO LABS LIMITED                                                           1   \n",
       "MISSIONPHARMA A/S                                                            0   \n",
       "MSD LATIN AMERICA SERVICES, S. DE R.L. DE C.V.                               0   \n",
       "MYLAN LABORATORIES LTD (FORMERLY MATRIX LABORATORIES)                        0   \n",
       "NOVARTIS PHARMA SERVICES AG                                                  0   \n",
       "OMEGA DIAGNOSTICS LTD                                                        0   \n",
       "Orasure Technologies Inc.                                                    0   \n",
       "Orgenics, Ltd                                                                0   \n",
       "PHARMACY DIRECT                                                              0   \n",
       "PLURIPHARM S.A.                                                              0   \n",
       "PUETRO RICO PHARMACEUTICAL, INC.                                             0   \n",
       "Premier Medical Corporation Ltd.                                             0   \n",
       "RAININ INSTRUMENT, LLC.                                                      0   \n",
       "RANBAXY Fine Chemicals LTD.                                                  0   \n",
       "REINBOLD EXPORT IMPORT                                                       0   \n",
       "S. BUYS WHOLESALER                                                           0   \n",
       "SCMS from RDC                                                              632   \n",
       "SETEMA LIMITED PLC                                                           0   \n",
       "SHANGHAI KEHUA BIOENGINEERING CO.,LTD.  (KHB)                                0   \n",
       "STRIDES ARCOLAB LIMITED                                                      2   \n",
       "SUB-SAHARAN BIOMEDICAL P.L.C.                                                0   \n",
       "SUN PHARMACEUTICAL INDUSTRIES LTD (RANBAXY LABORATORIES LIMITED)             0   \n",
       "SWORDS LABORATORIES                                                          0   \n",
       "SYSMEX AMERICA INC                                                           0   \n",
       "Standard Diagnostics, Inc.                                                   0   \n",
       "THE MEDICAL EXPORT GROUP BV                                                  0   \n",
       "TURE PHARMACEUTICALS & MEDICAL SUPPLIES P.L.C.                               0   \n",
       "Trinity Biotech, Plc                                                         0   \n",
       "WAGENIA                                                                      0   \n",
       "ZEPHYR BIOMEDICALS                                                           0   \n",
       "\n",
       "shipment mode                                                      Ocean  \\\n",
       "vendor                                                                     \n",
       "ABBOTT LABORATORIES (PUERTO RICO)                                      0   \n",
       "ABBOTT LOGISTICS B.V.                                                  0   \n",
       "ABBVIE LOGISTICS (FORMERLY ABBOTT LOGISTICS BV)                        5   \n",
       "ABBVIE, SRL (FORMALLY ABBOTT LABORATORIES INTERNATIONAL CO.)           0   \n",
       "ACCESS BIO, INC.                                                       0   \n",
       "ACCOUN NIGERIA LIMITED                                                 0   \n",
       "ACOUNS NIGERIA LTD                                                     0   \n",
       "ACTION MEDEOR E.V.                                                     0   \n",
       "AHN (PTY) LTD (AKA UCB (S.A.)                                          0   \n",
       "AMSTELFARMA B.V.                                                       0   \n",
       "ASPEN PHARMACARE                                                       0   \n",
       "AUROBINDO PHARAM (SOUTH AFRICA)                                        0   \n",
       "Abbott GmbH & Co. KG                                                   0   \n",
       "Aurobindo Pharma Limited                                             182   \n",
       "B&C GROUP S.A.                                                         0   \n",
       "BIO-RAD LABORATORIES (FRANCE)                                          0   \n",
       "BIO-RAD LABORATORIES PTY LTD. (SOUTH AFRICA)                           0   \n",
       "BIOLYTICAL LABORATORIES INC.                                           0   \n",
       "BRISTOL-MYERS SQUIBB                                                   0   \n",
       "BUNDI INTERNATIONAL DIAGNOSTICS LTD                                    0   \n",
       "CENTRAL PHARMACEUTICAL COMPANY NO. 1                                   0   \n",
       "CHEMBIO DIAGNOSTIC SYSTEMS, INC.                                       0   \n",
       "CIPLA LIMITED                                                         54   \n",
       "EMCURE PHARMACEUTICALS LTD                                             5   \n",
       "ETHNOR DEL ISTMO S.A.                                                  0   \n",
       "EY Laboratories                                                        0   \n",
       "GILEAD SCIENCES IRELAND, INC.                                          0   \n",
       "GLAXOSMITHKLINE EXPORT LIMITED                                         9   \n",
       "HETERO LABS LIMITED                                                   32   \n",
       "HUMAN GMBH                                                             0   \n",
       "Hoffmann-La Roche ltd Basel                                            0   \n",
       "IDA FOUNDATION                                                         0   \n",
       "IDIS LIMITED                                                           0   \n",
       "IMRES B.V.                                                             0   \n",
       "INTERNATIONAL HEALTHCARE DISTRIBUTORS                                  0   \n",
       "INVERNESS MEDICAL INNOVATIONS HONG KONG LTD                            0   \n",
       "INVERNESS MEDICAL INNOVATIONS SOUTH AFRICA (PTY) LTD                   0   \n",
       "JANSSEN SCIENCES IRELAND UC (FORMERLY JANSSEN R&D IRELAND)             0   \n",
       "JSI R&T INSTITUTE, INC.                                                0   \n",
       "KAS MEDICS LIMITED                                                     0   \n",
       "LAWRENCE LABORATORIES (SUBSIDIARY OF BRISTOL MYERS SQUIBB)             0   \n",
       "MEDMIRA EAST AFRICA LTD.                                               0   \n",
       "MERCK SHARP & DOHME IDEA GMBH (FORMALLY MERCK SHARP & DOHME B.V.)      0   \n",
       "MICRO LABS LIMITED                                                     5   \n",
       "MISSIONPHARMA A/S                                                      0   \n",
       "MSD LATIN AMERICA SERVICES, S. DE R.L. DE C.V.                         0   \n",
       "MYLAN LABORATORIES LTD (FORMERLY MATRIX LABORATORIES)                 43   \n",
       "NOVARTIS PHARMA SERVICES AG                                            0   \n",
       "OMEGA DIAGNOSTICS LTD                                                  0   \n",
       "Orasure Technologies Inc.                                              0   \n",
       "Orgenics, Ltd                                                          1   \n",
       "PHARMACY DIRECT                                                        0   \n",
       "PLURIPHARM S.A.                                                        0   \n",
       "PUETRO RICO PHARMACEUTICAL, INC.                                       0   \n",
       "Premier Medical Corporation Ltd.                                       0   \n",
       "RAININ INSTRUMENT, LLC.                                                0   \n",
       "RANBAXY Fine Chemicals LTD.                                            0   \n",
       "REINBOLD EXPORT IMPORT                                                 0   \n",
       "S. BUYS WHOLESALER                                                     0   \n",
       "SCMS from RDC                                                          5   \n",
       "SETEMA LIMITED PLC                                                     0   \n",
       "SHANGHAI KEHUA BIOENGINEERING CO.,LTD.  (KHB)                          0   \n",
       "STRIDES ARCOLAB LIMITED                                               27   \n",
       "SUB-SAHARAN BIOMEDICAL P.L.C.                                          0   \n",
       "SUN PHARMACEUTICAL INDUSTRIES LTD (RANBAXY LABORATORIES LIMITED)       0   \n",
       "SWORDS LABORATORIES                                                    0   \n",
       "SYSMEX AMERICA INC                                                     0   \n",
       "Standard Diagnostics, Inc.                                             0   \n",
       "THE MEDICAL EXPORT GROUP BV                                            0   \n",
       "TURE PHARMACEUTICALS & MEDICAL SUPPLIES P.L.C.                         0   \n",
       "Trinity Biotech, Plc                                                   3   \n",
       "WAGENIA                                                                0   \n",
       "ZEPHYR BIOMEDICALS                                                     0   \n",
       "\n",
       "shipment mode                                                      Truck  NaN  \n",
       "vendor                                                                         \n",
       "ABBOTT LABORATORIES (PUERTO RICO)                                      0    0  \n",
       "ABBOTT LOGISTICS B.V.                                                  0    0  \n",
       "ABBVIE LOGISTICS (FORMERLY ABBOTT LOGISTICS BV)                        0    0  \n",
       "ABBVIE, SRL (FORMALLY ABBOTT LABORATORIES INTERNATIONAL CO.)           3    0  \n",
       "ACCESS BIO, INC.                                                       0    0  \n",
       "ACCOUN NIGERIA LIMITED                                                 0    3  \n",
       "ACOUNS NIGERIA LTD                                                     0    0  \n",
       "ACTION MEDEOR E.V.                                                     0    0  \n",
       "AHN (PTY) LTD (AKA UCB (S.A.)                                          1    0  \n",
       "AMSTELFARMA B.V.                                                       0    0  \n",
       "ASPEN PHARMACARE                                                       0    0  \n",
       "AUROBINDO PHARAM (SOUTH AFRICA)                                        1    0  \n",
       "Abbott GmbH & Co. KG                                                   0    0  \n",
       "Aurobindo Pharma Limited                                               0    0  \n",
       "B&C GROUP S.A.                                                         0    0  \n",
       "BIO-RAD LABORATORIES (FRANCE)                                          0    0  \n",
       "BIO-RAD LABORATORIES PTY LTD. (SOUTH AFRICA)                           0    0  \n",
       "BIOLYTICAL LABORATORIES INC.                                           0    0  \n",
       "BRISTOL-MYERS SQUIBB                                                   0    0  \n",
       "BUNDI INTERNATIONAL DIAGNOSTICS LTD                                    0    1  \n",
       "CENTRAL PHARMACEUTICAL COMPANY NO. 1                                   1    0  \n",
       "CHEMBIO DIAGNOSTIC SYSTEMS, INC.                                       0    0  \n",
       "CIPLA LIMITED                                                          0    0  \n",
       "EMCURE PHARMACEUTICALS LTD                                             0    0  \n",
       "ETHNOR DEL ISTMO S.A.                                                  0    0  \n",
       "EY Laboratories                                                        0    0  \n",
       "GILEAD SCIENCES IRELAND, INC.                                          0    0  \n",
       "GLAXOSMITHKLINE EXPORT LIMITED                                         0    0  \n",
       "HETERO LABS LIMITED                                                    0    0  \n",
       "HUMAN GMBH                                                             0    0  \n",
       "Hoffmann-La Roche ltd Basel                                            0    0  \n",
       "IDA FOUNDATION                                                         0    0  \n",
       "IDIS LIMITED                                                           0    0  \n",
       "IMRES B.V.                                                             0    0  \n",
       "INTERNATIONAL HEALTHCARE DISTRIBUTORS                                  0    0  \n",
       "INVERNESS MEDICAL INNOVATIONS HONG KONG LTD                            0    0  \n",
       "INVERNESS MEDICAL INNOVATIONS SOUTH AFRICA (PTY) LTD                   0    0  \n",
       "JANSSEN SCIENCES IRELAND UC (FORMERLY JANSSEN R&D IRELAND)             0    0  \n",
       "JSI R&T INSTITUTE, INC.                                                4   34  \n",
       "KAS MEDICS LIMITED                                                     1    0  \n",
       "LAWRENCE LABORATORIES (SUBSIDIARY OF BRISTOL MYERS SQUIBB)             0    0  \n",
       "MEDMIRA EAST AFRICA LTD.                                               0    0  \n",
       "MERCK SHARP & DOHME IDEA GMBH (FORMALLY MERCK SHARP & DOHME B.V.)      0    0  \n",
       "MICRO LABS LIMITED                                                     0    0  \n",
       "MISSIONPHARMA A/S                                                      0    0  \n",
       "MSD LATIN AMERICA SERVICES, S. DE R.L. DE C.V.                         0    0  \n",
       "MYLAN LABORATORIES LTD (FORMERLY MATRIX LABORATORIES)                  0    0  \n",
       "NOVARTIS PHARMA SERVICES AG                                            0    0  \n",
       "OMEGA DIAGNOSTICS LTD                                                  0    0  \n",
       "Orasure Technologies Inc.                                              0    0  \n",
       "Orgenics, Ltd                                                          0    0  \n",
       "PHARMACY DIRECT                                                      326    0  \n",
       "PLURIPHARM S.A.                                                        0    0  \n",
       "PUETRO RICO PHARMACEUTICAL, INC.                                       0    0  \n",
       "Premier Medical Corporation Ltd.                                       0    0  \n",
       "RAININ INSTRUMENT, LLC.                                                1    0  \n",
       "RANBAXY Fine Chemicals LTD.                                            0    0  \n",
       "REINBOLD EXPORT IMPORT                                                 6    0  \n",
       "S. BUYS WHOLESALER                                                   573    8  \n",
       "SCMS from RDC                                                       1910  312  \n",
       "SETEMA LIMITED PLC                                                     0    0  \n",
       "SHANGHAI KEHUA BIOENGINEERING CO.,LTD.  (KHB)                          0    0  \n",
       "STRIDES ARCOLAB LIMITED                                                0    0  \n",
       "SUB-SAHARAN BIOMEDICAL P.L.C.                                          0    0  \n",
       "SUN PHARMACEUTICAL INDUSTRIES LTD (RANBAXY LABORATORIES LIMITED)       0    0  \n",
       "SWORDS LABORATORIES                                                    0    0  \n",
       "SYSMEX AMERICA INC                                                     0    0  \n",
       "Standard Diagnostics, Inc.                                             0    0  \n",
       "THE MEDICAL EXPORT GROUP BV                                            0    0  \n",
       "TURE PHARMACEUTICALS & MEDICAL SUPPLIES P.L.C.                         1    1  \n",
       "Trinity Biotech, Plc                                                   0    0  \n",
       "WAGENIA                                                                2    0  \n",
       "ZEPHYR BIOMEDICALS                                                     0    1  "
      ]
     },
     "execution_count": 142,
     "metadata": {},
     "output_type": "execute_result"
    }
   ],
   "source": [
    "#start with Shipment Mode:\n",
    "#checking the unique values in shipment mode column\n",
    "\n",
    "vendors_shipment = df.groupby(['vendor', 'shipment mode'], dropna=False).size().unstack(fill_value=0)\n",
    "vendors_shipment\n"
   ]
  },
  {
   "cell_type": "code",
   "execution_count": 143,
   "id": "acb16fa9",
   "metadata": {},
   "outputs": [],
   "source": [
    "#make a copy of the original data before processing\n",
    "#Now sc will be processed \n",
    "\n",
    "sc =df.copy()"
   ]
  },
  {
   "cell_type": "code",
   "execution_count": 144,
   "id": "5e3f8e7c",
   "metadata": {},
   "outputs": [],
   "source": [
    "#replaces all NaN (missing) values in the shipment mode column with the string 'Missing'\n",
    "#To make sure no value is NaN, especially before grouping, counting, or visualizing\n",
    "sc['shipment mode'] = sc['shipment mode'].fillna('Missing')"
   ]
  },
  {
   "cell_type": "code",
   "execution_count": 145,
   "id": "b891c96a",
   "metadata": {},
   "outputs": [
    {
     "data": {
      "text/plain": [
       "np.int64(0)"
      ]
     },
     "execution_count": 145,
     "metadata": {},
     "output_type": "execute_result"
    }
   ],
   "source": [
    "# the most common shipment mode for each vendor\n",
    "mode_mapping = sc.dropna().groupby('vendor')['shipment mode'].agg(lambda x: x.mode()[0]).to_dict()\n",
    "\n",
    "# Fill missing shipment modes using the mapping\n",
    "sc['shipment mode'] = sc.apply(lambda row: mode_mapping.get(row['vendor'], 'Unknown') if pd.isna(row['shipment mode']) else row['shipment mode'], axis=1)\n",
    "sc['shipment mode'].isnull().sum()"
   ]
  },
  {
   "cell_type": "code",
   "execution_count": 146,
   "id": "820423ae",
   "metadata": {},
   "outputs": [
    {
     "data": {
      "text/plain": [
       "shipment mode\n",
       "Air            6113\n",
       "Truck          2830\n",
       "Air Charter     650\n",
       "Ocean           371\n",
       "Missing         360\n",
       "Name: count, dtype: int64"
      ]
     },
     "execution_count": 146,
     "metadata": {},
     "output_type": "execute_result"
    }
   ],
   "source": [
    "value_counts = sc['shipment mode'].value_counts()\n",
    "value_counts "
   ]
  },
  {
   "cell_type": "code",
   "execution_count": 147,
   "id": "0d5b043f",
   "metadata": {},
   "outputs": [
    {
     "data": {
      "text/plain": [
       "array(['ACCOUN NIGERIA LIMITED', 'JSI R&T INSTITUTE, INC.',\n",
       "       'TURE PHARMACEUTICALS & MEDICAL SUPPLIES P.L.C.',\n",
       "       'S. BUYS WHOLESALER', 'ZEPHYR BIOMEDICALS',\n",
       "       'BUNDI INTERNATIONAL DIAGNOSTICS LTD', 'SCMS from RDC'],\n",
       "      dtype=object)"
      ]
     },
     "execution_count": 147,
     "metadata": {},
     "output_type": "execute_result"
    }
   ],
   "source": [
    "# Note: Missing values in Shipment Mode which is vendor-specific — unfortunately, data is missing for 7 vendors.\n",
    "\n",
    "missing_vendors = sc[sc[\"shipment mode\"] == \"Missing\"][\"vendor\"].unique()\n",
    "missing_vendors"
   ]
  },
  {
   "cell_type": "code",
   "execution_count": 148,
   "id": "1df6bac7",
   "metadata": {},
   "outputs": [
    {
     "name": "stdout",
     "output_type": "stream",
     "text": [
      "shipment mode\n",
      "Air            6473\n",
      "Truck          2830\n",
      "Air Charter     650\n",
      "Ocean           371\n",
      "Name: count, dtype: int64\n"
     ]
    }
   ],
   "source": [
    "# So, we will fill the missing values with the most common shipment mode in the dataset.\n",
    "# Replace \"Unknown\" shipment modes with the most common mode\n",
    "\n",
    "most_common_shipment_mode =sc[\"shipment mode\"].mode()[0]\n",
    "\n",
    "sc[\"shipment mode\"] = sc[\"shipment mode\"].replace([\"Missing\", None], most_common_shipment_mode)\n",
    "\n",
    "# Verify that \"Unknown\" is now gone\n",
    "print(sc[\"shipment mode\"].value_counts())"
   ]
  },
  {
   "cell_type": "code",
   "execution_count": 149,
   "id": "ce0b48d5",
   "metadata": {},
   "outputs": [
    {
     "data": {
      "text/plain": [
       "np.int64(287)"
      ]
     },
     "execution_count": 149,
     "metadata": {},
     "output_type": "execute_result"
    }
   ],
   "source": [
    "#  Missing Insurance\n",
    "\n",
    "sc['line item insurance (usd)'].isna().sum()"
   ]
  },
  {
   "cell_type": "code",
   "execution_count": 150,
   "id": "4f2e8593",
   "metadata": {},
   "outputs": [
    {
     "data": {
      "text/plain": [
       "np.int64(54)"
      ]
     },
     "execution_count": 150,
     "metadata": {},
     "output_type": "execute_result"
    }
   ],
   "source": [
    "#Zeros were noted during exploration\n",
    "zero_count_insurance = (sc[\"line item insurance (usd)\"] == 0).sum()\n",
    "zero_count_insurance"
   ]
  },
  {
   "cell_type": "code",
   "execution_count": 151,
   "id": "8f9e3ff8",
   "metadata": {},
   "outputs": [],
   "source": [
    "#Inco Terms where 0 Insurance is EXPECTED\n",
    "\n",
    "#1. EXW (Ex Works) – Buyer arranges shipping & insurance → Insurance = 0 makes sense\n",
    "\n",
    "#2. FCA (Free Carrier) – Seller delivers to carrier, but insurance is optional → 0 is okay\n",
    "\n",
    "#3. DDU (Delivered Duty Unpaid) – No insurance obligation on the seller → 0 is reasonable\n",
    "\n",
    "#4. N/A - From RDC (Regional Distribution Center) – If shipped internally, no insurance may apply → 0 is possible"
   ]
  },
  {
   "cell_type": "code",
   "execution_count": 152,
   "id": "42b3e139",
   "metadata": {},
   "outputs": [],
   "source": [
    "zero_ok_inco_terms = ['EXW', 'FCA', 'DDU', 'N/A']"
   ]
  },
  {
   "cell_type": "code",
   "execution_count": 153,
   "id": "219527cc",
   "metadata": {},
   "outputs": [],
   "source": [
    "#first, we will standarize the inco terms to upper case\n",
    "\n",
    "sc['vendor inco term'] = sc['vendor inco term'].str.upper().str.strip()\n"
   ]
  },
  {
   "cell_type": "code",
   "execution_count": 154,
   "id": "b1fba4c9",
   "metadata": {},
   "outputs": [],
   "source": [
    "# Create a mask where insurance is zero and it's acceptable due to inco term\n",
    "accepted_zero_mask = (sc['line item insurance (usd)'] == 0) & (sc['vendor inco term'].isin(zero_ok_inco_terms))"
   ]
  },
  {
   "cell_type": "code",
   "execution_count": 155,
   "id": "0b33a46b",
   "metadata": {},
   "outputs": [
    {
     "name": "stdout",
     "output_type": "stream",
     "text": [
      "Accepted zeros: 26\n"
     ]
    }
   ],
   "source": [
    "print(\"Accepted zeros:\", accepted_zero_mask.sum())"
   ]
  },
  {
   "cell_type": "code",
   "execution_count": 156,
   "id": "4b0827f6",
   "metadata": {},
   "outputs": [],
   "source": [
    "# Define when insurance is expected\n",
    "needs_insurance_mask = ((sc['vendor inco term'] == 'CIP') | (sc['shipment mode'] == 'Air'))\n",
    "\n",
    "# Now filter for rows that have 0 or NaN AND insurance is needed\n",
    "fill_mask = ((sc['line item insurance (usd)'].isna()) | (sc['line item insurance (usd)'] == 0)) & needs_insurance_mask & (~accepted_zero_mask)\n"
   ]
  },
  {
   "cell_type": "code",
   "execution_count": 157,
   "id": "07a54381",
   "metadata": {},
   "outputs": [],
   "source": [
    "# Calculate median only from rows where insurance is > 0 and is expected\n",
    "median_insurance = sc.loc[needs_insurance_mask & (sc['line item insurance (usd)'] > 0), 'line item insurance (usd)'].median()\n",
    "\n",
    "# Replace the 0s or NaNs where insurance is expected\n",
    "sc.loc[fill_mask, 'line item insurance (usd)'] = median_insurance"
   ]
  },
  {
   "cell_type": "code",
   "execution_count": 158,
   "id": "59f48374",
   "metadata": {},
   "outputs": [
    {
     "data": {
      "text/plain": [
       "np.int64(0)"
      ]
     },
     "execution_count": 158,
     "metadata": {},
     "output_type": "execute_result"
    }
   ],
   "source": [
    "sc['line item insurance (usd)'].isna().sum()"
   ]
  },
  {
   "cell_type": "markdown",
   "id": "f1d60cd3",
   "metadata": {},
   "source": [
    "\n",
    "first step (handle missing values) finished \n",
    "\n",
    "moving to the next step (data type fixes)"
   ]
  },
  {
   "cell_type": "code",
   "execution_count": null,
   "id": "9589ace3",
   "metadata": {},
   "outputs": [],
   "source": [
    "#Date times\n",
    "#Preserve flags BEFORE converting\n",
    "sc[\"pq_flag\"] = sc[\"pq first sent to client date\"].isin([\"Pre-PQ Process\", \"Date Not Captured\"])\n",
    "sc[\"po_flag\"] = sc[\"po sent to vendor date\"].astype(str).str.contains(\"From RDC|Date Not Captured\", na=False)"
   ]
  },
  {
   "cell_type": "code",
   "execution_count": null,
   "id": "e47ad089",
   "metadata": {},
   "outputs": [],
   "source": [
    "#convert to datetime\n",
    "sc[\"pq first sent to client date\"] = pd.to_datetime(sc[\"pq first sent to client date\"], errors=\"coerce\")\n",
    "sc[\"po sent to vendor date\"] = pd.to_datetime(sc[\"po sent to vendor date\"], errors=\"coerce\")"
   ]
  },
  {
   "cell_type": "code",
   "execution_count": 161,
   "id": "6ccbe16c",
   "metadata": {},
   "outputs": [
    {
     "data": {
      "text/plain": [
       "18     2012-07-25\n",
       "2682   2009-11-18\n",
       "2683   2013-05-03\n",
       "2684   2014-08-19\n",
       "2685   2012-01-06\n",
       "2686   2013-02-22\n",
       "2687   2014-10-28\n",
       "2688   2013-02-20\n",
       "2689   2012-02-17\n",
       "2690   2011-11-09\n",
       "Name: pq first sent to client date, dtype: datetime64[ns]"
      ]
     },
     "execution_count": 161,
     "metadata": {},
     "output_type": "execute_result"
    }
   ],
   "source": [
    "#Set all dates for the same formula to avoid future issues\n",
    "sc[\"pq first sent to client date\"].dropna().head(10)"
   ]
  },
  {
   "cell_type": "code",
   "execution_count": 162,
   "id": "866cecc2",
   "metadata": {},
   "outputs": [],
   "source": [
    "def convert_to_datetime(df, columns, date_format=\"%Y-%m-%d\"):\n",
    "    for col in columns:\n",
    "        df[col] = pd.to_datetime(df[col], format=date_format, errors='coerce')\n",
    "    return df"
   ]
  },
  {
   "cell_type": "code",
   "execution_count": 163,
   "id": "837e7cad",
   "metadata": {},
   "outputs": [],
   "source": [
    "date_cols = [\n",
    "    \"pq first sent to client date\",\n",
    "    \"po sent to vendor date\",\n",
    "    \"scheduled delivery date\",\n",
    "    \"delivered to client date\",\n",
    "    \"delivery recorded date\"\n",
    "]\n",
    "\n",
    "sc = convert_to_datetime(sc, date_cols)"
   ]
  },
  {
   "cell_type": "code",
   "execution_count": 164,
   "id": "a9efe171",
   "metadata": {},
   "outputs": [],
   "source": [
    "sc[\"exclude_from_timeline\"] = ( sc[\"pq first sent to client date\"].isna() | sc[\"po sent to vendor date\"].astype(str).str.contains(\"From RDC|Date Not Captured\", na=False) \n",
    "                                                     | sc[\"scheduled delivery date\"].isna())"
   ]
  },
  {
   "cell_type": "markdown",
   "id": "d997791f",
   "metadata": {},
   "source": [
    "\n",
    "All of these rows are characterized by:\n",
    "- **Managed by** = PMO - US  \n",
    "- **Fulfill via** = From RDC  \n",
    "- **Vendor Inco Term** = N/A - From RDC  \n",
    "- **PQ First Sent to Client Date** = Pre-PQ Process  \n",
    "- **PO Sent to Vendor Date** = N/A - From RDC  \n",
    "\n",
    "---\n",
    "\n",
    " **What do these values mean?**  \n",
    "- These records represent **internal movements from the RDC warehouse** (not new purchase orders).  \n",
    "- The process has **not actually started yet** (*Pre-PQ Process*), so there should be **no PQ, PO, or delivery dates**.  \n",
    "- We **do not need to include them** in calculations such as:  \n",
    "  - *Delivery delay*  \n",
    "  - *PO lead time*  \n",
    "  - *Vendor performance*\n"
   ]
  },
  {
   "cell_type": "code",
   "execution_count": 165,
   "id": "79effd23",
   "metadata": {},
   "outputs": [],
   "source": [
    "#start fill missing dates and avoid flagged rows\n",
    "#first calculate the difference between the two dates\n",
    "sc[\"pq_to_po_days\"] = ( sc[\"po sent to vendor date\"] - sc[\"pq first sent to client date\"]).dt.days"
   ]
  },
  {
   "cell_type": "code",
   "execution_count": 166,
   "id": "5c26812c",
   "metadata": {},
   "outputs": [],
   "source": [
    "#Calculate vendor-level median \n",
    "vendor_median_days = sc.groupby(\"vendor\")[\"pq_to_po_days\"].median()"
   ]
  },
  {
   "cell_type": "code",
   "execution_count": 167,
   "id": "f3a7bb02",
   "metadata": {},
   "outputs": [],
   "source": [
    "#fiter out the flagged rows and rows with values\n",
    "valid_rows = sc[(sc[\"exclude_from_timeline\"] == False) & (sc[\"pq_to_po_days\"].notna())]\n"
   ]
  },
  {
   "cell_type": "code",
   "execution_count": 168,
   "id": "0d47af8d",
   "metadata": {},
   "outputs": [],
   "source": [
    "overall_median_days = valid_rows[\"pq_to_po_days\"].median()\n",
    "vendor_median_days = vendor_median_days.fillna(overall_median_days)\n"
   ]
  },
  {
   "cell_type": "code",
   "execution_count": 169,
   "id": "2cee6281",
   "metadata": {},
   "outputs": [
    {
     "data": {
      "text/plain": [
       "valid_timeline\n",
       "True     7643\n",
       "False    2681\n",
       "Name: count, dtype: int64"
      ]
     },
     "execution_count": 169,
     "metadata": {},
     "output_type": "execute_result"
    }
   ],
   "source": [
    "\n",
    "def handle_missing_dates(row):\n",
    "    pq = row[\"pq first sent to client date\"]\n",
    "    po = row[\"po sent to vendor date\"]\n",
    "\n",
    "    \n",
    "    if row.get(\"exclude_from_timeline\", False):\n",
    "        return po\n",
    "\n",
    "    \n",
    "    if pd.notna(pq) and pd.isna(po):\n",
    "        median_days = vendor_median_days.get(row[\"vendor\"], overall_median_days)\n",
    "        return pq + pd.Timedelta(days=int(median_days))\n",
    "\n",
    "\n",
    "    if pd.isna(pq) and pd.notna(po):\n",
    "        return pd.NaT\n",
    "\n",
    "    return po\n",
    "\n",
    "sc[\"po sent to vendor date\"] = sc.apply(handle_missing_dates, axis=1)\n",
    "\n",
    "# Recalculate the difference after filling missing dates\n",
    "sc[\"pq_to_po_days\"] = (sc[\"po sent to vendor date\"] - sc[\"pq first sent to client date\"]).dt.days\n",
    "\n",
    "\n",
    "sc[\"valid_timeline\"] = (sc[\"pq_to_po_days\"].notna() & (sc[\"exclude_from_timeline\"] == False))\n",
    "\n",
    "\n",
    "sc[\"valid_timeline\"].value_counts()"
   ]
  },
  {
   "cell_type": "markdown",
   "id": "fd681a39",
   "metadata": {},
   "source": [
    "#Remember to use >>>> valid_timeline == True >>>> in any timeline analysis to ensure the data is valid and complete.\n"
   ]
  },
  {
   "cell_type": "code",
   "execution_count": 170,
   "id": "c981a168",
   "metadata": {},
   "outputs": [
    {
     "data": {
      "text/html": [
       "<div>\n",
       "<style scoped>\n",
       "    .dataframe tbody tr th:only-of-type {\n",
       "        vertical-align: middle;\n",
       "    }\n",
       "\n",
       "    .dataframe tbody tr th {\n",
       "        vertical-align: top;\n",
       "    }\n",
       "\n",
       "    .dataframe thead th {\n",
       "        text-align: right;\n",
       "    }\n",
       "</style>\n",
       "<table border=\"1\" class=\"dataframe\">\n",
       "  <thead>\n",
       "    <tr style=\"text-align: right;\">\n",
       "      <th></th>\n",
       "      <th>freight cost (usd)</th>\n",
       "      <th>weight (kilograms)</th>\n",
       "    </tr>\n",
       "  </thead>\n",
       "  <tbody>\n",
       "    <tr>\n",
       "      <th>0</th>\n",
       "      <td>780.34</td>\n",
       "      <td>13.0</td>\n",
       "    </tr>\n",
       "    <tr>\n",
       "      <th>1</th>\n",
       "      <td>4521.50</td>\n",
       "      <td>358.0</td>\n",
       "    </tr>\n",
       "    <tr>\n",
       "      <th>2</th>\n",
       "      <td>1653.78</td>\n",
       "      <td>171.0</td>\n",
       "    </tr>\n",
       "    <tr>\n",
       "      <th>3</th>\n",
       "      <td>16007.06</td>\n",
       "      <td>1855.0</td>\n",
       "    </tr>\n",
       "    <tr>\n",
       "      <th>4</th>\n",
       "      <td>45450.08</td>\n",
       "      <td>7590.0</td>\n",
       "    </tr>\n",
       "    <tr>\n",
       "      <th>5</th>\n",
       "      <td>5920.42</td>\n",
       "      <td>504.0</td>\n",
       "    </tr>\n",
       "    <tr>\n",
       "      <th>6</th>\n",
       "      <td>NaN</td>\n",
       "      <td>328.0</td>\n",
       "    </tr>\n",
       "    <tr>\n",
       "      <th>7</th>\n",
       "      <td>6212.41</td>\n",
       "      <td>1478.0</td>\n",
       "    </tr>\n",
       "    <tr>\n",
       "      <th>8</th>\n",
       "      <td>NaN</td>\n",
       "      <td>NaN</td>\n",
       "    </tr>\n",
       "    <tr>\n",
       "      <th>9</th>\n",
       "      <td>NaN</td>\n",
       "      <td>643.0</td>\n",
       "    </tr>\n",
       "  </tbody>\n",
       "</table>\n",
       "</div>"
      ],
      "text/plain": [
       "   freight cost (usd)  weight (kilograms)\n",
       "0              780.34                13.0\n",
       "1             4521.50               358.0\n",
       "2             1653.78               171.0\n",
       "3            16007.06              1855.0\n",
       "4            45450.08              7590.0\n",
       "5             5920.42               504.0\n",
       "6                 NaN               328.0\n",
       "7             6212.41              1478.0\n",
       "8                 NaN                 NaN\n",
       "9                 NaN               643.0"
      ]
     },
     "execution_count": 170,
     "metadata": {},
     "output_type": "execute_result"
    }
   ],
   "source": [
    "#2 numerical columns are of object type ( weight (kilograms),freight cost (usd) )\n",
    "# change to numeric and convert text values by Nan\n",
    "sc['weight (kilograms)'] = pd.to_numeric(sc['weight (kilograms)'], errors='coerce')\n",
    "sc['freight cost (usd)'] = pd.to_numeric(sc['freight cost (usd)'], errors='coerce')\n",
    "sc[['freight cost (usd)', 'weight (kilograms)']].head(10)"
   ]
  },
  {
   "cell_type": "code",
   "execution_count": 171,
   "id": "2abd7763",
   "metadata": {},
   "outputs": [
    {
     "data": {
      "text/plain": [
       "freight cost (usd)    4126\n",
       "weight (kilograms)    3952\n",
       "dtype: int64"
      ]
     },
     "execution_count": 171,
     "metadata": {},
     "output_type": "execute_result"
    }
   ],
   "source": [
    "#check for null values\n",
    "sc[['freight cost (usd)', 'weight (kilograms)']].isna().sum()"
   ]
  },
  {
   "cell_type": "code",
   "execution_count": 172,
   "id": "338c655a",
   "metadata": {},
   "outputs": [],
   "source": [
    "#get bsck to the original data to get values with (freight included) in the freight cost (usd) column\n",
    "#keep the original column for review\n",
    "df[\"freight cost (usd)_original\"] = df[\"freight cost (usd)\"]\n",
    "\n",
    "#make flag for those with \"freight included\" in the freight cost (usd) column\n",
    "df[\"freight_included_flag\"] = df[\"freight cost (usd)_original\"].astype(str).str.contains(\n",
    "    \"freight included\", case=False, na=False\n",
    ")\n",
    "\n",
    "df[\"freight cost (usd)\"] = pd.to_numeric(df[\"freight cost (usd)_original\"], errors=\"coerce\")\n",
    "\n",
    "\n",
    "#Now 3 columns for freight cost (usd) are created:\n",
    "# 1. freight cost (usd)_original: the original values with \"freight included\"\n",
    "# 2. freight cost (usd): the numeric values after conversion    \n",
    "# 3. freight_included_flag: a boolean flag indicating if \"freight included\" was present \n",
    "\n",
    "#filter the rows where freight cost is missing and freight_included_flag is True\n",
    "freight_missing_included = df[df[\"freight cost (usd)\"].isna() & df[\"freight_included_flag\"]]"
   ]
  },
  {
   "cell_type": "code",
   "execution_count": 173,
   "id": "43520840",
   "metadata": {},
   "outputs": [],
   "source": [
    "#Now, again, do the same for the cleaned dataframe\n",
    "sc[\"freight cost (usd)_original\"] = df[\"freight cost (usd)_original\"]\n",
    "sc[\"freight_included_flag\"] = df[\"freight_included_flag\"]"
   ]
  },
  {
   "cell_type": "code",
   "execution_count": null,
   "id": "2ec52510",
   "metadata": {},
   "outputs": [
    {
     "data": {
      "text/plain": [
       "freight_included_flag\n",
       "False    8882\n",
       "True     1442\n",
       "Name: count, dtype: int64"
      ]
     },
     "execution_count": 174,
     "metadata": {},
     "output_type": "execute_result"
    }
   ],
   "source": [
    "sc[\"freight_included_flag\"].value_counts()\n",
    "#so we have 1442 rows with \"freight included\" in the freight cost (usd) column. It will be missing but still meaningful. "
   ]
  },
  {
   "cell_type": "code",
   "execution_count": 175,
   "id": "f32b5e8f",
   "metadata": {},
   "outputs": [
    {
     "data": {
      "text/plain": [
       "freight cost (usd)    4126\n",
       "weight (kilograms)    3952\n",
       "dtype: int64"
      ]
     },
     "execution_count": 175,
     "metadata": {},
     "output_type": "execute_result"
    }
   ],
   "source": [
    "sc[['freight cost (usd)', 'weight (kilograms)']].isna().sum()"
   ]
  },
  {
   "cell_type": "code",
   "execution_count": 176,
   "id": "7f17bf83",
   "metadata": {},
   "outputs": [
    {
     "data": {
      "text/html": [
       "<div>\n",
       "<style scoped>\n",
       "    .dataframe tbody tr th:only-of-type {\n",
       "        vertical-align: middle;\n",
       "    }\n",
       "\n",
       "    .dataframe tbody tr th {\n",
       "        vertical-align: top;\n",
       "    }\n",
       "\n",
       "    .dataframe thead th {\n",
       "        text-align: right;\n",
       "    }\n",
       "</style>\n",
       "<table border=\"1\" class=\"dataframe\">\n",
       "  <thead>\n",
       "    <tr style=\"text-align: right;\">\n",
       "      <th></th>\n",
       "      <th>freight cost (usd)</th>\n",
       "      <th>weight (kilograms)</th>\n",
       "    </tr>\n",
       "  </thead>\n",
       "  <tbody>\n",
       "    <tr>\n",
       "      <th>freight cost (usd)</th>\n",
       "      <td>1.000000</td>\n",
       "      <td>0.232052</td>\n",
       "    </tr>\n",
       "    <tr>\n",
       "      <th>weight (kilograms)</th>\n",
       "      <td>0.232052</td>\n",
       "      <td>1.000000</td>\n",
       "    </tr>\n",
       "  </tbody>\n",
       "</table>\n",
       "</div>"
      ],
      "text/plain": [
       "                    freight cost (usd)  weight (kilograms)\n",
       "freight cost (usd)            1.000000            0.232052\n",
       "weight (kilograms)            0.232052            1.000000"
      ]
     },
     "execution_count": 176,
     "metadata": {},
     "output_type": "execute_result"
    }
   ],
   "source": [
    "# first of all>> freight cost missing values are > weight missing values >>>>>so can infer cost from weight for similar products ?!\n",
    "# check for correlation\n",
    "weight_freight_cor = sc[['freight cost (usd)', 'weight (kilograms)']].corr()\n",
    "weight_freight_cor\n"
   ]
  },
  {
   "cell_type": "code",
   "execution_count": 177,
   "id": "e5095515",
   "metadata": {},
   "outputs": [
    {
     "data": {
      "text/html": [
       "<div>\n",
       "<style scoped>\n",
       "    .dataframe tbody tr th:only-of-type {\n",
       "        vertical-align: middle;\n",
       "    }\n",
       "\n",
       "    .dataframe tbody tr th {\n",
       "        vertical-align: top;\n",
       "    }\n",
       "\n",
       "    .dataframe thead th {\n",
       "        text-align: right;\n",
       "    }\n",
       "</style>\n",
       "<table border=\"1\" class=\"dataframe\">\n",
       "  <thead>\n",
       "    <tr style=\"text-align: right;\">\n",
       "      <th></th>\n",
       "      <th>weight (kilograms)</th>\n",
       "      <th>freight cost (usd)</th>\n",
       "      <th>line item quantity</th>\n",
       "      <th>line item value</th>\n",
       "    </tr>\n",
       "  </thead>\n",
       "  <tbody>\n",
       "    <tr>\n",
       "      <th>weight (kilograms)</th>\n",
       "      <td>1.000000</td>\n",
       "      <td>0.232052</td>\n",
       "      <td>0.355840</td>\n",
       "      <td>0.351372</td>\n",
       "    </tr>\n",
       "    <tr>\n",
       "      <th>freight cost (usd)</th>\n",
       "      <td>0.232052</td>\n",
       "      <td>1.000000</td>\n",
       "      <td>0.378289</td>\n",
       "      <td>0.429676</td>\n",
       "    </tr>\n",
       "    <tr>\n",
       "      <th>line item quantity</th>\n",
       "      <td>0.355840</td>\n",
       "      <td>0.378289</td>\n",
       "      <td>1.000000</td>\n",
       "      <td>0.839081</td>\n",
       "    </tr>\n",
       "    <tr>\n",
       "      <th>line item value</th>\n",
       "      <td>0.351372</td>\n",
       "      <td>0.429676</td>\n",
       "      <td>0.839081</td>\n",
       "      <td>1.000000</td>\n",
       "    </tr>\n",
       "  </tbody>\n",
       "</table>\n",
       "</div>"
      ],
      "text/plain": [
       "                    weight (kilograms)  freight cost (usd)  \\\n",
       "weight (kilograms)            1.000000            0.232052   \n",
       "freight cost (usd)            0.232052            1.000000   \n",
       "line item quantity            0.355840            0.378289   \n",
       "line item value               0.351372            0.429676   \n",
       "\n",
       "                    line item quantity  line item value  \n",
       "weight (kilograms)            0.355840         0.351372  \n",
       "freight cost (usd)            0.378289         0.429676  \n",
       "line item quantity            1.000000         0.839081  \n",
       "line item value               0.839081         1.000000  "
      ]
     },
     "execution_count": 177,
     "metadata": {},
     "output_type": "execute_result"
    }
   ],
   "source": [
    "#weak correlation between freight cost and weight\n",
    "# check correlation with other numeric columns\n",
    "\n",
    "correlation_status = sc[[\"weight (kilograms)\", \"freight cost (usd)\", \"line item quantity\", \"line item value\"]].corr()\n",
    "correlation_status"
   ]
  },
  {
   "cell_type": "code",
   "execution_count": null,
   "id": "3757ef83",
   "metadata": {},
   "outputs": [],
   "source": [
    "#weight is moderately correlated with line item quantity and freight moderately correlated with line item value\n",
    "# #comuting freight according to product group, country and shipment mode >>>> more reliable\n",
    "# Exclude records where freight is included in the commodity cost\n",
    "df_freight = sc[sc[\"freight_included_flag\"] == False].copy()\n",
    "\n",
    "#  Create freight cost per unit value\n",
    "df_freight[\"freight_cost_per_unit\"] = df_freight[\"freight cost (usd)\"] / df_freight[\"line item value\"]\n",
    "\n",
    "# Calculate median freight per unit for each group\n",
    "median_freight_cost_per_unit = (\n",
    "    df_freight.groupby([\"product group\", \"country\", \"shipment mode\"])[\"freight_cost_per_unit\"].median()\n",
    ")\n",
    "\n",
    "#  Add flag to track which rows are filled\n",
    "sc[\"freight_cost_imputed\"] = False\n",
    "\n",
    "#  Function to fill missing freight\n",
    "def fill_missing_freight_cost(row):\n",
    "    if pd.isna(row[\"freight cost (usd)\"]) and not row[\"freight_included_flag\"] and not pd.isna(row[\"line item value\"]):\n",
    "        key = (row[\"product group\"], row[\"country\"], row[\"shipment mode\"])\n",
    "        median_unit_cost = median_freight_cost_per_unit.get(key)\n",
    "        if median_unit_cost is not None:\n",
    "            sc.at[row.name, \"freight_cost_imputed\"] = True\n",
    "            return median_unit_cost * row[\"line item value\"]\n",
    "    return row[\"freight cost (usd)\"]\n",
    "\n",
    "# Apply function\n",
    "sc[\"freight cost (usd)\"] = sc.apply(fill_missing_freight_cost, axis=1)\n"
   ]
  },
  {
   "cell_type": "code",
   "execution_count": 179,
   "id": "d3af911f",
   "metadata": {},
   "outputs": [
    {
     "data": {
      "text/plain": [
       "np.int64(1454)"
      ]
     },
     "execution_count": 179,
     "metadata": {},
     "output_type": "execute_result"
    }
   ],
   "source": [
    "sc[\"freight cost (usd)\"].isna().sum()"
   ]
  },
  {
   "cell_type": "code",
   "execution_count": 180,
   "id": "82a51775",
   "metadata": {},
   "outputs": [
    {
     "data": {
      "text/plain": [
       "np.int64(1454)"
      ]
     },
     "execution_count": 180,
     "metadata": {},
     "output_type": "execute_result"
    }
   ],
   "source": [
    "sc[\"freight cost (usd)\"].isna().sum()"
   ]
  },
  {
   "cell_type": "code",
   "execution_count": 181,
   "id": "4e088de1",
   "metadata": {},
   "outputs": [
    {
     "data": {
      "text/plain": [
       "freight_included_flag\n",
       "True     1442\n",
       "False      12\n",
       "Name: count, dtype: int64"
      ]
     },
     "execution_count": 181,
     "metadata": {},
     "output_type": "execute_result"
    }
   ],
   "source": [
    "missing_freight = sc[sc[\"freight cost (usd)\"].isna()]\n",
    "included_count = missing_freight[\"freight_included_flag\"].value_counts()\n",
    "included_count"
   ]
  },
  {
   "cell_type": "markdown",
   "id": "36f90ae6",
   "metadata": {},
   "source": [
    "Finally freight cost is imputed with each related items\n",
    "\n",
    "weight is the next"
   ]
  },
  {
   "cell_type": "code",
   "execution_count": null,
   "id": "6d56b970",
   "metadata": {},
   "outputs": [
    {
     "data": {
      "text/plain": [
       "np.int64(0)"
      ]
     },
     "execution_count": 182,
     "metadata": {},
     "output_type": "execute_result"
    }
   ],
   "source": [
    "#weight\n",
    "#  Filling Weight Missing Values>>>Since weight is more correlated with line item quantity>>>>>>>>>\n",
    "#Estimated Weight= Median Weight per Item in Product Group × Line Item Quantity\n",
    "\n",
    "sc[\"weight_per_unit\"] = sc[\"weight (kilograms)\"] /sc[\"line item quantity\"] #column for weight per unit\n",
    "median_weight_per_unit = sc.groupby(\"product group\")[\"weight_per_unit\"].median()\n",
    "\n",
    "def fill_missing_weight(row):\n",
    "    if pd.isna(row[\"weight (kilograms)\"]) and not pd.isna(row[\"line item quantity\"]):\n",
    "        median_unit_weight = median_weight_per_unit.get(row[\"product group\"], None)\n",
    "        if median_unit_weight is not None:\n",
    "            return median_unit_weight * row[\"line item quantity\"]\n",
    "    return row[\"weight (kilograms)\"]\n",
    "\n",
    "sc[\"weight (kilograms)\"] = sc.apply(fill_missing_weight, axis=1)\n",
    "\n",
    "#check for missing values\n",
    "sc['weight (kilograms)'].isna().sum()"
   ]
  },
  {
   "cell_type": "markdown",
   "id": "bf61ece1",
   "metadata": {},
   "source": [
    "# Data Profiling & validation : Checking for Duplicates, Unique Values,  Accuracy, and consistency"
   ]
  },
  {
   "cell_type": "code",
   "execution_count": 183,
   "id": "74fbb5b8",
   "metadata": {},
   "outputs": [
    {
     "data": {
      "text/plain": [
       "id                                 0\n",
       "project code                       0\n",
       "pq #                               0\n",
       "po / so #                          0\n",
       "asn/dn #                           0\n",
       "country                            0\n",
       "managed by                         0\n",
       "fulfill via                        0\n",
       "vendor inco term                   0\n",
       "shipment mode                      0\n",
       "pq first sent to client date    2681\n",
       "po sent to vendor date          1931\n",
       "scheduled delivery date            0\n",
       "delivered to client date           0\n",
       "delivery recorded date             0\n",
       "product group                      0\n",
       "sub classification                 0\n",
       "vendor                             0\n",
       "item description                   0\n",
       "molecule/test type                 0\n",
       "brand                              0\n",
       "dosage                          1736\n",
       "dosage form                        0\n",
       "unit of measure (per pack)         0\n",
       "line item quantity                 0\n",
       "line item value                    0\n",
       "pack price                         0\n",
       "unit price                         0\n",
       "manufacturing site                 0\n",
       "first line designation             0\n",
       "weight (kilograms)                 0\n",
       "freight cost (usd)              1454\n",
       "line item insurance (usd)          0\n",
       "pq_flag                            0\n",
       "po_flag                            0\n",
       "exclude_from_timeline              0\n",
       "pq_to_po_days                   2681\n",
       "valid_timeline                     0\n",
       "freight cost (usd)_original        0\n",
       "freight_included_flag              0\n",
       "freight_cost_imputed               0\n",
       "weight_per_unit                 3952\n",
       "dtype: int64"
      ]
     },
     "execution_count": 183,
     "metadata": {},
     "output_type": "execute_result"
    }
   ],
   "source": [
    "missing_values = sc.isnull().sum()\n",
    "missing_values"
   ]
  },
  {
   "cell_type": "code",
   "execution_count": null,
   "id": "0e24b6d2",
   "metadata": {},
   "outputs": [],
   "source": [
    "# they were calculated before filling nulls >>> so drop now\n",
    "sc.drop(columns=[\"freight_cost_per_unit\", \"weight_per_unit\"], inplace=True)"
   ]
  },
  {
   "cell_type": "code",
   "execution_count": 185,
   "id": "63dae27c",
   "metadata": {},
   "outputs": [],
   "source": [
    "#keep copy for the original processing \n",
    "sc_cleaned = sc.copy()\n",
    "sc_cleaned= sc_cleaned.drop(columns=[\"pq_flag\", \"po_flag\", \"exclude_from_timeline\", \"freight_cost_imputed\"])\n",
    "\n"
   ]
  },
  {
   "cell_type": "code",
   "execution_count": 186,
   "id": "10c64ea4",
   "metadata": {},
   "outputs": [
    {
     "name": "stdout",
     "output_type": "stream",
     "text": [
      "Number od duplicate roes: 0\n"
     ]
    }
   ],
   "source": [
    "### 1. Checking for Duplicates\n",
    "duplicate= sc_cleaned.duplicated().sum()\n",
    "print(f\"Number od duplicate roes: {duplicate}\")"
   ]
  },
  {
   "cell_type": "markdown",
   "id": "a65a5561",
   "metadata": {},
   "source": [
    "### 2.Unique Values in Categorical Columns\n"
   ]
  },
  {
   "cell_type": "code",
   "execution_count": 187,
   "id": "6a9053bd",
   "metadata": {},
   "outputs": [
    {
     "data": {
      "text/plain": [
       "fulfill via                       2\n",
       "freight_included_flag             2\n",
       "first line designation            2\n",
       "valid_timeline                    2\n",
       "shipment mode                     4\n",
       "managed by                        4\n",
       "product group                     5\n",
       "sub classification                6\n",
       "vendor inco term                  8\n",
       "dosage form                      17\n",
       "country                          43\n",
       "brand                            48\n",
       "dosage                           54\n",
       "vendor                           73\n",
       "molecule/test type               86\n",
       "manufacturing site               88\n",
       "project code                    142\n",
       "item description                184\n",
       "pq #                           1237\n",
       "po / so #                      6233\n",
       "freight cost (usd)_original    6733\n",
       "asn/dn #                       7030\n",
       "dtype: int64"
      ]
     },
     "execution_count": 187,
     "metadata": {},
     "output_type": "execute_result"
    }
   ],
   "source": [
    "columns_categorical = sc_cleaned.select_dtypes(include=['object', 'bool'])\n",
    "unique_counts_categorical = columns_categorical.nunique().sort_values()\n",
    "\n",
    "unique_counts_categorical"
   ]
  },
  {
   "cell_type": "code",
   "execution_count": 198,
   "id": "9692733e",
   "metadata": {},
   "outputs": [
    {
     "data": {
      "text/plain": [
       "array([\"CÃ´TE D'IVOIRE\", 'VIETNAM', 'NIGERIA', 'ZAMBIA', 'TANZANIA',\n",
       "       'RWANDA', 'HAITI', 'ZIMBABWE', 'ETHIOPIA', 'SOUTH AFRICA',\n",
       "       'GUYANA', 'NAMIBIA', 'BOTSWANA', 'MOZAMBIQUE', 'KENYA',\n",
       "       'KAZAKHSTAN', 'UGANDA', 'KYRGYZSTAN', 'SENEGAL', 'BENIN',\n",
       "       'LESOTHO', 'PAKISTAN', 'SWAZILAND', 'GHANA', 'ANGOLA', 'LEBANON',\n",
       "       'SIERRA LEONE', 'CAMEROON', 'SOUTH SUDAN', 'BURUNDI',\n",
       "       'DOMINICAN REPUBLIC', 'MALAWI', 'CONGO, DRC', 'SUDAN', 'MALI',\n",
       "       'GUATEMALA', 'TOGO', 'AFGHANISTAN', 'LIBERIA', 'BURKINA FASO',\n",
       "       'GUINEA', 'LIBYA', 'BELIZE'], dtype=object)"
      ]
     },
     "execution_count": 198,
     "metadata": {},
     "output_type": "execute_result"
    }
   ],
   "source": [
    "sc_cleaned[\"country\"].unique()"
   ]
  },
  {
   "cell_type": "code",
   "execution_count": 211,
   "id": "712c5b49",
   "metadata": {},
   "outputs": [],
   "source": [
    "sc_cleaned[\"country\"] = sc_cleaned[\"country\"].replace(\"Cã´Te D'Ivoire\", \"Côte d'Ivoire\")"
   ]
  },
  {
   "cell_type": "code",
   "execution_count": 212,
   "id": "8c8e3117",
   "metadata": {},
   "outputs": [
    {
     "data": {
      "text/plain": [
       "array([\"Côte d'Ivoire\", 'Vietnam', 'Nigeria', 'Zambia', 'Tanzania',\n",
       "       'Rwanda', 'Haiti', 'Zimbabwe', 'Ethiopia', 'South Africa',\n",
       "       'Guyana', 'Namibia', 'Botswana', 'Mozambique', 'Kenya',\n",
       "       'Kazakhstan', 'Uganda', 'Kyrgyzstan', 'Senegal', 'Benin',\n",
       "       'Lesotho', 'Pakistan', 'Swaziland', 'Ghana', 'Angola', 'Lebanon',\n",
       "       'Sierra Leone', 'Cameroon', 'South Sudan', 'Burundi',\n",
       "       'Dominican Republic', 'Malawi', 'Congo, Drc', 'Sudan', 'Mali',\n",
       "       'Guatemala', 'Togo', 'Afghanistan', 'Liberia', 'Burkina Faso',\n",
       "       'Guinea', 'Libya', 'Belize'], dtype=object)"
      ]
     },
     "execution_count": 212,
     "metadata": {},
     "output_type": "execute_result"
    }
   ],
   "source": [
    "sc_cleaned[\"country\"].unique()"
   ]
  },
  {
   "cell_type": "code",
   "execution_count": 208,
   "id": "ddc79fc4",
   "metadata": {},
   "outputs": [],
   "source": [
    "sc_cleaned[\"country\"] = sc_cleaned[\"country\"].str.title()"
   ]
  },
  {
   "cell_type": "code",
   "execution_count": 213,
   "id": "2411ca8b",
   "metadata": {},
   "outputs": [
    {
     "data": {
      "text/plain": [
       "array([\"Côte d'Ivoire\", 'Vietnam', 'Nigeria', 'Zambia', 'Tanzania',\n",
       "       'Rwanda', 'Haiti', 'Zimbabwe', 'Ethiopia', 'South Africa',\n",
       "       'Guyana', 'Namibia', 'Botswana', 'Mozambique', 'Kenya',\n",
       "       'Kazakhstan', 'Uganda', 'Kyrgyzstan', 'Senegal', 'Benin',\n",
       "       'Lesotho', 'Pakistan', 'Swaziland', 'Ghana', 'Angola', 'Lebanon',\n",
       "       'Sierra Leone', 'Cameroon', 'South Sudan', 'Burundi',\n",
       "       'Dominican Republic', 'Malawi', 'Congo, Drc', 'Sudan', 'Mali',\n",
       "       'Guatemala', 'Togo', 'Afghanistan', 'Liberia', 'Burkina Faso',\n",
       "       'Guinea', 'Libya', 'Belize'], dtype=object)"
      ]
     },
     "execution_count": 213,
     "metadata": {},
     "output_type": "execute_result"
    }
   ],
   "source": [
    "sc_cleaned[\"country\"].unique()"
   ]
  },
  {
   "cell_type": "code",
   "execution_count": 200,
   "id": "afc9253d",
   "metadata": {},
   "outputs": [
    {
     "data": {
      "text/plain": [
       "array(['RANBAXY Fine Chemicals LTD.', 'Aurobindo Pharma Limited',\n",
       "       'Abbott GmbH & Co. KG',\n",
       "       'SUN PHARMACEUTICAL INDUSTRIES LTD (RANBAXY LABORATORIES LIMITED)',\n",
       "       'MERCK SHARP & DOHME IDEA GMBH (FORMALLY MERCK SHARP & DOHME B.V.)',\n",
       "       'ABBVIE LOGISTICS (FORMERLY ABBOTT LOGISTICS BV)',\n",
       "       'Trinity Biotech, Plc', 'EY Laboratories', 'CIPLA LIMITED',\n",
       "       'BRISTOL-MYERS SQUIBB', 'ACCOUN NIGERIA LIMITED',\n",
       "       'Premier Medical Corporation Ltd.',\n",
       "       'CHEMBIO DIAGNOSTIC SYSTEMS, INC.', 'Orgenics, Ltd',\n",
       "       'Orasure Technologies Inc.', 'Standard Diagnostics, Inc.',\n",
       "       'JSI R&T INSTITUTE, INC.', 'GILEAD SCIENCES IRELAND, INC.',\n",
       "       'BIO-RAD LABORATORIES (FRANCE)',\n",
       "       'TURE PHARMACEUTICALS & MEDICAL SUPPLIES P.L.C.',\n",
       "       'MYLAN LABORATORIES LTD (FORMERLY MATRIX LABORATORIES)',\n",
       "       'S. BUYS WHOLESALER', 'IDA FOUNDATION', 'ZEPHYR BIOMEDICALS',\n",
       "       'HETERO LABS LIMITED', 'INTERNATIONAL HEALTHCARE DISTRIBUTORS',\n",
       "       'STRIDES ARCOLAB LIMITED', 'ASPEN PHARMACARE',\n",
       "       'SHANGHAI KEHUA BIOENGINEERING CO.,LTD.  (KHB)',\n",
       "       'BIOLYTICAL LABORATORIES INC.',\n",
       "       'INVERNESS MEDICAL INNOVATIONS SOUTH AFRICA (PTY) LTD',\n",
       "       'ABBOTT LABORATORIES (PUERTO RICO)',\n",
       "       'SUB-SAHARAN BIOMEDICAL P.L.C.', 'SETEMA LIMITED PLC',\n",
       "       'GLAXOSMITHKLINE EXPORT LIMITED', 'OMEGA DIAGNOSTICS LTD',\n",
       "       'Hoffmann-La Roche ltd Basel', 'REINBOLD EXPORT IMPORT',\n",
       "       'BUNDI INTERNATIONAL DIAGNOSTICS LTD', 'MISSIONPHARMA A/S',\n",
       "       'PLURIPHARM S.A.', 'CENTRAL PHARMACEUTICAL COMPANY NO. 1',\n",
       "       'SCMS from RDC', 'AHN (PTY) LTD (AKA UCB (S.A.)',\n",
       "       'KAS MEDICS LIMITED', 'PHARMACY DIRECT',\n",
       "       'ABBVIE, SRL (FORMALLY ABBOTT LABORATORIES INTERNATIONAL CO.)',\n",
       "       'EMCURE PHARMACEUTICALS LTD', 'MICRO LABS LIMITED',\n",
       "       'NOVARTIS PHARMA SERVICES AG', 'SWORDS LABORATORIES',\n",
       "       'IDIS LIMITED', 'AMSTELFARMA B.V.',\n",
       "       'LAWRENCE LABORATORIES (SUBSIDIARY OF BRISTOL MYERS SQUIBB)',\n",
       "       'JANSSEN SCIENCES IRELAND UC (FORMERLY JANSSEN R&D IRELAND)',\n",
       "       'INVERNESS MEDICAL INNOVATIONS HONG KONG LTD', 'WAGENIA',\n",
       "       'BIO-RAD LABORATORIES PTY LTD. (SOUTH AFRICA)',\n",
       "       'ETHNOR DEL ISTMO S.A.', 'PUETRO RICO PHARMACEUTICAL, INC.',\n",
       "       'MSD LATIN AMERICA SERVICES, S. DE R.L. DE C.V.',\n",
       "       'ACOUNS NIGERIA LTD', 'IMRES B.V.', 'THE MEDICAL EXPORT GROUP BV',\n",
       "       'ACTION MEDEOR E.V.', 'RAININ INSTRUMENT, LLC.',\n",
       "       'ACCESS BIO, INC.', 'HUMAN GMBH', 'B&C GROUP S.A.',\n",
       "       'SYSMEX AMERICA INC', 'MEDMIRA EAST AFRICA LTD.',\n",
       "       'ABBOTT LOGISTICS B.V.', 'AUROBINDO PHARAM (SOUTH AFRICA)'],\n",
       "      dtype=object)"
      ]
     },
     "execution_count": 200,
     "metadata": {},
     "output_type": "execute_result"
    }
   ],
   "source": [
    "vendors = sc_cleaned[\"vendor\"].unique()\n",
    "vendors"
   ]
  },
  {
   "cell_type": "code",
   "execution_count": 201,
   "id": "f1992470",
   "metadata": {},
   "outputs": [],
   "source": [
    "#To be consistent, we will make it title \n",
    "\n",
    "sc_cleaned[\"vendor\"] = sc_cleaned[\"vendor\"].str.title()\n"
   ]
  },
  {
   "cell_type": "code",
   "execution_count": 202,
   "id": "61bcff2b",
   "metadata": {},
   "outputs": [
    {
     "data": {
      "text/plain": [
       "0                                                  Abbott Gmbh & Co. Kg\n",
       "1                                     Abbott Laboratories (Puerto Rico)\n",
       "2                                                 Abbott Logistics B.V.\n",
       "3                       Abbvie Logistics (Formerly Abbott Logistics Bv)\n",
       "4          Abbvie, Srl (Formally Abbott Laboratories International Co.)\n",
       "5                                                      Access Bio, Inc.\n",
       "6                                                Accoun Nigeria Limited\n",
       "7                                                    Acouns Nigeria Ltd\n",
       "8                                                    Action Medeor E.V.\n",
       "9                                         Ahn (Pty) Ltd (Aka Ucb (S.A.)\n",
       "10                                                     Amstelfarma B.V.\n",
       "11                                                     Aspen Pharmacare\n",
       "12                                      Aurobindo Pharam (South Africa)\n",
       "13                                             Aurobindo Pharma Limited\n",
       "14                                                       B&C Group S.A.\n",
       "15                                        Bio-Rad Laboratories (France)\n",
       "16                         Bio-Rad Laboratories Pty Ltd. (South Africa)\n",
       "17                                         Biolytical Laboratories Inc.\n",
       "18                                                 Bristol-Myers Squibb\n",
       "19                                  Bundi International Diagnostics Ltd\n",
       "20                                 Central Pharmaceutical Company No. 1\n",
       "21                                     Chembio Diagnostic Systems, Inc.\n",
       "22                                                        Cipla Limited\n",
       "23                                           Emcure Pharmaceuticals Ltd\n",
       "24                                                Ethnor Del Istmo S.A.\n",
       "25                                                      Ey Laboratories\n",
       "26                                        Gilead Sciences Ireland, Inc.\n",
       "27                                       Glaxosmithkline Export Limited\n",
       "28                                                  Hetero Labs Limited\n",
       "29                                          Hoffmann-La Roche Ltd Basel\n",
       "30                                                           Human Gmbh\n",
       "31                                                       Ida Foundation\n",
       "32                                                         Idis Limited\n",
       "33                                                           Imres B.V.\n",
       "34                                International Healthcare Distributors\n",
       "35                          Inverness Medical Innovations Hong Kong Ltd\n",
       "36                 Inverness Medical Innovations South Africa (Pty) Ltd\n",
       "37           Janssen Sciences Ireland Uc (Formerly Janssen R&D Ireland)\n",
       "38                                              Jsi R&T Institute, Inc.\n",
       "39                                                   Kas Medics Limited\n",
       "40           Lawrence Laboratories (Subsidiary Of Bristol Myers Squibb)\n",
       "41                                             Medmira East Africa Ltd.\n",
       "42    Merck Sharp & Dohme Idea Gmbh (Formally Merck Sharp & Dohme B.V.)\n",
       "43                                                   Micro Labs Limited\n",
       "44                                                    Missionpharma A/S\n",
       "45                       Msd Latin America Services, S. De R.L. De C.V.\n",
       "46                Mylan Laboratories Ltd (Formerly Matrix Laboratories)\n",
       "47                                          Novartis Pharma Services Ag\n",
       "48                                                Omega Diagnostics Ltd\n",
       "49                                            Orasure Technologies Inc.\n",
       "50                                                        Orgenics, Ltd\n",
       "51                                                      Pharmacy Direct\n",
       "52                                                      Pluripharm S.A.\n",
       "53                                     Premier Medical Corporation Ltd.\n",
       "54                                     Puetro Rico Pharmaceutical, Inc.\n",
       "55                                              Rainin Instrument, Llc.\n",
       "56                                          Ranbaxy Fine Chemicals Ltd.\n",
       "57                                               Reinbold Export Import\n",
       "58                                                   S. Buys Wholesaler\n",
       "59                                                        Scms From Rdc\n",
       "60                                                   Setema Limited Plc\n",
       "61                        Shanghai Kehua Bioengineering Co.,Ltd.  (Khb)\n",
       "62                                           Standard Diagnostics, Inc.\n",
       "63                                              Strides Arcolab Limited\n",
       "64                                        Sub-Saharan Biomedical P.L.C.\n",
       "65     Sun Pharmaceutical Industries Ltd (Ranbaxy Laboratories Limited)\n",
       "66                                                  Swords Laboratories\n",
       "67                                                   Sysmex America Inc\n",
       "68                                          The Medical Export Group Bv\n",
       "69                                                 Trinity Biotech, Plc\n",
       "70                       Ture Pharmaceuticals & Medical Supplies P.L.C.\n",
       "71                                                              Wagenia\n",
       "72                                                   Zephyr Biomedicals\n",
       "dtype: object"
      ]
     },
     "execution_count": 202,
     "metadata": {},
     "output_type": "execute_result"
    }
   ],
   "source": [
    "vendorsOrder= pd.Series(sc_cleaned[\"vendor\"].dropna().unique()).sort_values().reset_index(drop=True)\n",
    "# Set display options to show full text and more rows\n",
    "pd.set_option(\"display.max_rows\", 100)       \n",
    "pd.set_option(\"display.max_colwidth\", None) \n",
    "\n",
    "vendorsOrder\n"
   ]
  },
  {
   "cell_type": "code",
   "execution_count": 203,
   "id": "426faa39",
   "metadata": {},
   "outputs": [
    {
     "data": {
      "text/plain": [
       "array(['EXW', 'FCA', 'DDU', 'CIP', 'DDP', 'CIF', 'N/A - FROM RDC', 'DAP'],\n",
       "      dtype=object)"
      ]
     },
     "execution_count": 203,
     "metadata": {},
     "output_type": "execute_result"
    }
   ],
   "source": [
    "sc_cleaned[\"vendor inco term\"].unique()"
   ]
  },
  {
   "cell_type": "code",
   "execution_count": 204,
   "id": "63675766",
   "metadata": {},
   "outputs": [
    {
     "data": {
      "text/plain": [
       "array(['Air', 'Truck', 'Air Charter', 'Ocean'], dtype=object)"
      ]
     },
     "execution_count": 204,
     "metadata": {},
     "output_type": "execute_result"
    }
   ],
   "source": [
    "shipment_mode = sc_cleaned[\"shipment mode\"].unique()\n",
    "shipment_mode"
   ]
  },
  {
   "cell_type": "code",
   "execution_count": 205,
   "id": "4cc1ee86",
   "metadata": {},
   "outputs": [],
   "source": [
    "sc_cleaned[\"vendor\"] = sc_cleaned[\"vendor\"].str.title()"
   ]
  },
  {
   "cell_type": "markdown",
   "id": "4aa49b7d",
   "metadata": {},
   "source": [
    "### Finally the data is ready for analysis"
   ]
  },
  {
   "cell_type": "code",
   "execution_count": null,
   "id": "18471ff0",
   "metadata": {},
   "outputs": [],
   "source": [
    "\n",
    "# Save the cleaned data to a new CSV file (USE encoding =\"utf-8-sig\" to avoid issues with special characters)\n",
    "sc_cleaned.to_csv(r\"D:\\aml\\project\\last choice\\NEW\\cleaned_data.csv\", index=False, encoding=\"utf-8-sig\")"
   ]
  },
  {
   "cell_type": "code",
   "execution_count": 216,
   "id": "1d58d083",
   "metadata": {},
   "outputs": [],
   "source": [
    "# Save the cleaned data to a new Excel file (USE engine='openpyxl' to avoid issues with special characters)\n",
    "sc_cleaned.to_excel(r\"D:\\aml\\project\\last choice\\NEW\\SC_Cleaned_EXCEL.xlsx\", index=False, engine='openpyxl')\n"
   ]
  }
 ],
 "metadata": {
  "kernelspec": {
   "display_name": "Python 3",
   "language": "python",
   "name": "python3"
  },
  "language_info": {
   "codemirror_mode": {
    "name": "ipython",
    "version": 3
   },
   "file_extension": ".py",
   "mimetype": "text/x-python",
   "name": "python",
   "nbconvert_exporter": "python",
   "pygments_lexer": "ipython3",
   "version": "3.13.1"
  }
 },
 "nbformat": 4,
 "nbformat_minor": 5
}
